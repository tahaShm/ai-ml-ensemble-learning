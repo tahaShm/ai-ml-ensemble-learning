{
 "cells": [
  {
   "cell_type": "markdown",
   "metadata": {
    "colab_type": "text",
    "id": "4u-1EjlNXYXv"
   },
   "source": [
    "# Mahdi Hadiloo 810196587\n",
    "# CA4  یادگیری ماشین"
   ]
  },
  {
   "cell_type": "markdown",
   "metadata": {
    "colab_type": "text",
    "id": "f7OYv-WDdtgx"
   },
   "source": [
    "در این پروژه قرار است مدل های مختلف برای یادگیری ماشین تست و با هم مقایسه شوند\n",
    "مراحل کلی ب ترتیب \n",
    "\n",
    "تمیز کردن دیتا\n",
    "\n",
    "\n",
    "بدست آوردن فیچر های مناسب \n",
    "\n",
    "جدا کردن دیتای تست و آموزش\n",
    "\n",
    "و خود آموزی مدل ها با دیتای آموزش و تست آن ها با دیتای تست \n",
    "\n",
    "میباشد"
   ]
  },
  {
   "cell_type": "code",
   "execution_count": 22,
   "metadata": {
    "colab": {
     "base_uri": "https://localhost:8080/",
     "height": 34
    },
    "colab_type": "code",
    "id": "xx62m4zxe28B",
    "outputId": "643568cd-b674-4f9d-ffa6-f1646ef31be7"
   },
   "outputs": [
    {
     "name": "stdout",
     "output_type": "stream",
     "text": [
      "Drive already mounted at /content/drive; to attempt to forcibly remount, call drive.mount(\"/content/drive\", force_remount=True).\n"
     ]
    }
   ],
   "source": [
    "import pandas as pd\n",
    "import numpy as np\n",
    "from google.colab import drive\n",
    "drive.mount('/content/drive')"
   ]
  },
  {
   "cell_type": "code",
   "execution_count": 0,
   "metadata": {
    "colab": {},
    "colab_type": "code",
    "id": "0PErGLyofWZQ"
   },
   "outputs": [],
   "source": []
  },
  {
   "cell_type": "markdown",
   "metadata": {
    "colab_type": "text",
    "id": "XF5aKZVkXwKV"
   },
   "source": [
    "# تمیز کردن دیتا\n",
    "\n",
    "در ابتدا با حدف مقادیری که معنا ندارند شروع میکنیم برای مثال خرید با قیمت منفی بی معنا می باشد\n",
    "\n",
    "\n",
    "\n",
    "\n",
    "۲ ستون \n",
    "\n",
    "ID, unnamed\n",
    "\n",
    "نیز چون برای هر کیس خاص می باشند در صورت بودن تاثیری در یادگیری ندارند\n",
    "را نیز باید حذف کرد\n",
    "\n",
    "\n",
    "ستون هایی که عدد نیستند را نیز باید به عدد تبدیل کرد که با ۲ روش امکان پذیر می باشد\n",
    "\n",
    "\n",
    "یا به هر کدام یک عدد نسبت داداه می شود  یایک ستون جدید ایجاد می شود که در آن اگر باشد مقدار ۱ و در غیر اینصورت مقدار صفر قرار داده میشود \n",
    "\n",
    "در این جا از روش اول که \n",
    "\n",
    "label encoding \n",
    "\n",
    "نام دارد استفاذه شده است\n",
    "\n",
    "سپس تاریخ را نیز به چند الما شکسته ایم از جمله روز  ماه سال "
   ]
  },
  {
   "cell_type": "code",
   "execution_count": 0,
   "metadata": {
    "colab": {},
    "colab_type": "code",
    "id": "YH-nRmJsfWev"
   },
   "outputs": [],
   "source": [
    "df = pd.read_csv(\"/content/drive/My Drive/AI/CA_4/data.csv\")\n",
    "df = df[df[\"Total Quantity\"] > 0]\n",
    "df = df[df[\"Total Price\"] > 0]\n",
    "df = df[df[\"Purchase Count\"] > 0]\n",
    "\n",
    "\n",
    "df = df.drop([\"Unnamed: 0\", \"Customer ID\"], axis=1)\n",
    "\n",
    "from sklearn import preprocessing\n",
    "\n",
    "def makeDataNumeric(df,col):\n",
    "  le = preprocessing.LabelEncoder()\n",
    "  le.fit(df[col])\n",
    "  le.classes_\n",
    "  df[col] = le.transform(df[col])\n",
    "\n",
    "makeDataNumeric(df,\"Country\")\n",
    "makeDataNumeric(df,\"Is Back\")\n",
    "# df\n",
    "\n",
    "import datetime\n",
    "def add_date_options(df,col):\n",
    "  # way1\n",
    "  # df['Date'] = pd.to_datetime(df['Date'])\n",
    "  # df['day'] = df['Date'].dt.day\n",
    "\n",
    "  df['date'] = np.array(list(map(lambda x: datetime.datetime.strptime(x, '%Y-%m-%d').date(), df[col].to_numpy())))\n",
    "  df['year'] = np.array(list(map(lambda x: x.year, df['date'])))\n",
    "  df['month'] = np.array(list(map(lambda x: x.month, df['date'])))\n",
    "  df['day'] = np.array(list(map(lambda x: x.day, df['date'])))\n",
    "  df['day_of_week'] = np.array(list(map(lambda x: x % 7, df['day'])))\n",
    "  return df\n",
    "df = add_date_options(df,\"Date\")\n",
    "df = df.drop([\"Date\", \"date\"], axis=1)\n",
    "# df"
   ]
  },
  {
   "cell_type": "markdown",
   "metadata": {
    "colab_type": "text",
    "id": "-Ib0vrdFeh4M"
   },
   "source": [
    "# Information Gain\n",
    "\n",
    "این تابع میزان اطلاعاتی که هر فیچر نسبت به جواب به ما میدهد را محاسبه می کند\n",
    "\n",
    "اگر مقدار حساب شده برابر با صفر باشد یعنی این ۲ ار هم مستقل می باشند و هر چه این عدد به یک نزدیک تر باشد واسبتگه بیشتر در نتیجه دارد اطلاعاتی بیشتر در باره تاثیر این فیچر در تعیین نتیجه را به ما نشان میدهد.\n"
   ]
  },
  {
   "cell_type": "code",
   "execution_count": 24,
   "metadata": {
    "colab": {
     "base_uri": "https://localhost:8080/",
     "height": 338
    },
    "colab_type": "code",
    "id": "Vg-hq1FmqD07",
    "outputId": "b705830f-f9f5-4935-b049-4787dfb3a748"
   },
   "outputs": [
    {
     "data": {
      "text/plain": [
       "[<matplotlib.lines.Line2D at 0x7f5b67c715f8>]"
      ]
     },
     "execution_count": 24,
     "metadata": {
      "tags": []
     },
     "output_type": "execute_result"
    },
    {
     "data": {
      "image/png": "[encoded data removed]",
      "text/plain": [
       "<Figure size 720x360 with 1 Axes>"
      ]
     },
     "metadata": {
      "needs_background": "light",
      "tags": []
     },
     "output_type": "display_data"
    }
   ],
   "source": [
    "from sklearn.feature_selection import mutual_info_classif\n",
    "\n",
    "answer = df[\"Is Back\"]\n",
    "np.array(answer) \n",
    "df = df.drop([\"Is Back\"], axis=1)\n",
    "np.array(df)\n",
    "gain = mutual_info_classif(np.array(df), answer, discrete_features=True)\n",
    "\n",
    "\n",
    "import matplotlib.pyplot as plt\n",
    "\n",
    "plt.figure(figsize=(10, 5))\n",
    "plt.plot(df.columns, gain)"
   ]
  },
  {
   "cell_type": "markdown",
   "metadata": {
    "colab_type": "text",
    "id": "elJitU99f7Xp"
   },
   "source": [
    "\n",
    "با توجه به مقدار این تابع، ستون هایی که خیلی تاثیر گدار نبوده اند را از مدل حذف کرده ایم\n",
    "\n",
    "برای مصال در درخت تصمیم اگه این ویژگی ها به ریشه نزدیک باشند تاثیر چندانی نخواهند داشت و باز باید ویژگی های دیگرا را مقایسه کرد"
   ]
  },
  {
   "cell_type": "code",
   "execution_count": 25,
   "metadata": {
    "colab": {
     "base_uri": "https://localhost:8080/",
     "height": 424
    },
    "colab_type": "code",
    "id": "kQA3olz49WWe",
    "outputId": "0107121f-2d2a-4322-97ff-03288074039f"
   },
   "outputs": [
    {
     "data": {
      "text/html": [
       "<div>\n",
       "<style scoped>\n",
       "    .dataframe tbody tr th:only-of-type {\n",
       "        vertical-align: middle;\n",
       "    }\n",
       "\n",
       "    .dataframe tbody tr th {\n",
       "        vertical-align: top;\n",
       "    }\n",
       "\n",
       "    .dataframe thead th {\n",
       "        text-align: right;\n",
       "    }\n",
       "</style>\n",
       "<table border=\"1\" class=\"dataframe\">\n",
       "  <thead>\n",
       "    <tr style=\"text-align: right;\">\n",
       "      <th></th>\n",
       "      <th>Total Quantity</th>\n",
       "      <th>Total Price</th>\n",
       "      <th>Purchase Count</th>\n",
       "      <th>year</th>\n",
       "      <th>month</th>\n",
       "    </tr>\n",
       "  </thead>\n",
       "  <tbody>\n",
       "    <tr>\n",
       "      <th>1</th>\n",
       "      <td>85</td>\n",
       "      <td>13.52</td>\n",
       "      <td>19</td>\n",
       "      <td>2011</td>\n",
       "      <td>10</td>\n",
       "    </tr>\n",
       "    <tr>\n",
       "      <th>2</th>\n",
       "      <td>298</td>\n",
       "      <td>15.90</td>\n",
       "      <td>33</td>\n",
       "      <td>2011</td>\n",
       "      <td>5</td>\n",
       "    </tr>\n",
       "    <tr>\n",
       "      <th>3</th>\n",
       "      <td>399</td>\n",
       "      <td>8.30</td>\n",
       "      <td>62</td>\n",
       "      <td>2011</td>\n",
       "      <td>10</td>\n",
       "    </tr>\n",
       "    <tr>\n",
       "      <th>4</th>\n",
       "      <td>27</td>\n",
       "      <td>11.90</td>\n",
       "      <td>16</td>\n",
       "      <td>2011</td>\n",
       "      <td>1</td>\n",
       "    </tr>\n",
       "    <tr>\n",
       "      <th>5</th>\n",
       "      <td>564</td>\n",
       "      <td>204.00</td>\n",
       "      <td>13</td>\n",
       "      <td>2010</td>\n",
       "      <td>12</td>\n",
       "    </tr>\n",
       "    <tr>\n",
       "      <th>...</th>\n",
       "      <td>...</td>\n",
       "      <td>...</td>\n",
       "      <td>...</td>\n",
       "      <td>...</td>\n",
       "      <td>...</td>\n",
       "    </tr>\n",
       "    <tr>\n",
       "      <th>4361</th>\n",
       "      <td>58</td>\n",
       "      <td>20.40</td>\n",
       "      <td>5</td>\n",
       "      <td>2011</td>\n",
       "      <td>3</td>\n",
       "    </tr>\n",
       "    <tr>\n",
       "      <th>4362</th>\n",
       "      <td>582</td>\n",
       "      <td>5.04</td>\n",
       "      <td>62</td>\n",
       "      <td>2011</td>\n",
       "      <td>10</td>\n",
       "    </tr>\n",
       "    <tr>\n",
       "      <th>4363</th>\n",
       "      <td>231</td>\n",
       "      <td>15.00</td>\n",
       "      <td>16</td>\n",
       "      <td>2011</td>\n",
       "      <td>7</td>\n",
       "    </tr>\n",
       "    <tr>\n",
       "      <th>4364</th>\n",
       "      <td>57</td>\n",
       "      <td>17.70</td>\n",
       "      <td>8</td>\n",
       "      <td>2011</td>\n",
       "      <td>5</td>\n",
       "    </tr>\n",
       "    <tr>\n",
       "      <th>4365</th>\n",
       "      <td>44</td>\n",
       "      <td>14.85</td>\n",
       "      <td>5</td>\n",
       "      <td>2011</td>\n",
       "      <td>3</td>\n",
       "    </tr>\n",
       "  </tbody>\n",
       "</table>\n",
       "<p>4179 rows × 5 columns</p>\n",
       "</div>"
      ],
      "text/plain": [
       "      Total Quantity  Total Price  Purchase Count  year  month\n",
       "1                 85        13.52              19  2011     10\n",
       "2                298        15.90              33  2011      5\n",
       "3                399         8.30              62  2011     10\n",
       "4                 27        11.90              16  2011      1\n",
       "5                564       204.00              13  2010     12\n",
       "...              ...          ...             ...   ...    ...\n",
       "4361              58        20.40               5  2011      3\n",
       "4362             582         5.04              62  2011     10\n",
       "4363             231        15.00              16  2011      7\n",
       "4364              57        17.70               8  2011      5\n",
       "4365              44        14.85               5  2011      3\n",
       "\n",
       "[4179 rows x 5 columns]"
      ]
     },
     "execution_count": 25,
     "metadata": {
      "tags": []
     },
     "output_type": "execute_result"
    }
   ],
   "source": [
    "\n",
    "df = df.drop([\"day_of_week\" , \"day\" , \"Country\"], axis=1)\n",
    "df"
   ]
  },
  {
   "cell_type": "markdown",
   "metadata": {
    "colab_type": "text",
    "id": "K59wRc-awaFE"
   },
   "source": [
    "یکی از روش های نرمال کردن داده ها (تبدیل به اعداد بین ۰ و ۱) استفاذه از روش \n",
    "\n",
    "min max\n",
    "\n",
    "میباشد که به صورت زیر است\n",
    "\n",
    "x - min / max - min\n",
    "\n",
    "این کار را بر روی تمام ستون ها انجام داده ایم"
   ]
  },
  {
   "cell_type": "code",
   "execution_count": 26,
   "metadata": {
    "colab": {
     "base_uri": "https://localhost:8080/",
     "height": 424
    },
    "colab_type": "code",
    "id": "SI4tH86OU18B",
    "outputId": "4d59547a-5f9a-47f5-c2bb-2d5a95cb4fad"
   },
   "outputs": [
    {
     "data": {
      "text/html": [
       "<div>\n",
       "<style scoped>\n",
       "    .dataframe tbody tr th:only-of-type {\n",
       "        vertical-align: middle;\n",
       "    }\n",
       "\n",
       "    .dataframe tbody tr th {\n",
       "        vertical-align: top;\n",
       "    }\n",
       "\n",
       "    .dataframe thead th {\n",
       "        text-align: right;\n",
       "    }\n",
       "</style>\n",
       "<table border=\"1\" class=\"dataframe\">\n",
       "  <thead>\n",
       "    <tr style=\"text-align: right;\">\n",
       "      <th></th>\n",
       "      <th>Total Quantity</th>\n",
       "      <th>Total Price</th>\n",
       "      <th>Purchase Count</th>\n",
       "      <th>year</th>\n",
       "      <th>month</th>\n",
       "    </tr>\n",
       "  </thead>\n",
       "  <tbody>\n",
       "    <tr>\n",
       "      <th>1</th>\n",
       "      <td>0.009320</td>\n",
       "      <td>0.002705</td>\n",
       "      <td>0.093750</td>\n",
       "      <td>1.0</td>\n",
       "      <td>0.818182</td>\n",
       "    </tr>\n",
       "    <tr>\n",
       "      <th>2</th>\n",
       "      <td>0.032952</td>\n",
       "      <td>0.003188</td>\n",
       "      <td>0.166667</td>\n",
       "      <td>1.0</td>\n",
       "      <td>0.363636</td>\n",
       "    </tr>\n",
       "    <tr>\n",
       "      <th>3</th>\n",
       "      <td>0.044158</td>\n",
       "      <td>0.001644</td>\n",
       "      <td>0.317708</td>\n",
       "      <td>1.0</td>\n",
       "      <td>0.818182</td>\n",
       "    </tr>\n",
       "    <tr>\n",
       "      <th>4</th>\n",
       "      <td>0.002885</td>\n",
       "      <td>0.002375</td>\n",
       "      <td>0.078125</td>\n",
       "      <td>1.0</td>\n",
       "      <td>0.000000</td>\n",
       "    </tr>\n",
       "    <tr>\n",
       "      <th>5</th>\n",
       "      <td>0.062465</td>\n",
       "      <td>0.041410</td>\n",
       "      <td>0.062500</td>\n",
       "      <td>0.0</td>\n",
       "      <td>1.000000</td>\n",
       "    </tr>\n",
       "    <tr>\n",
       "      <th>...</th>\n",
       "      <td>...</td>\n",
       "      <td>...</td>\n",
       "      <td>...</td>\n",
       "      <td>...</td>\n",
       "      <td>...</td>\n",
       "    </tr>\n",
       "    <tr>\n",
       "      <th>4361</th>\n",
       "      <td>0.006324</td>\n",
       "      <td>0.004103</td>\n",
       "      <td>0.020833</td>\n",
       "      <td>1.0</td>\n",
       "      <td>0.181818</td>\n",
       "    </tr>\n",
       "    <tr>\n",
       "      <th>4362</th>\n",
       "      <td>0.064462</td>\n",
       "      <td>0.000981</td>\n",
       "      <td>0.317708</td>\n",
       "      <td>1.0</td>\n",
       "      <td>0.818182</td>\n",
       "    </tr>\n",
       "    <tr>\n",
       "      <th>4363</th>\n",
       "      <td>0.025519</td>\n",
       "      <td>0.003005</td>\n",
       "      <td>0.078125</td>\n",
       "      <td>1.0</td>\n",
       "      <td>0.545455</td>\n",
       "    </tr>\n",
       "    <tr>\n",
       "      <th>4364</th>\n",
       "      <td>0.006213</td>\n",
       "      <td>0.003554</td>\n",
       "      <td>0.036458</td>\n",
       "      <td>1.0</td>\n",
       "      <td>0.363636</td>\n",
       "    </tr>\n",
       "    <tr>\n",
       "      <th>4365</th>\n",
       "      <td>0.004771</td>\n",
       "      <td>0.002975</td>\n",
       "      <td>0.020833</td>\n",
       "      <td>1.0</td>\n",
       "      <td>0.181818</td>\n",
       "    </tr>\n",
       "  </tbody>\n",
       "</table>\n",
       "<p>4179 rows × 5 columns</p>\n",
       "</div>"
      ],
      "text/plain": [
       "      Total Quantity  Total Price  Purchase Count  year     month\n",
       "1           0.009320     0.002705        0.093750   1.0  0.818182\n",
       "2           0.032952     0.003188        0.166667   1.0  0.363636\n",
       "3           0.044158     0.001644        0.317708   1.0  0.818182\n",
       "4           0.002885     0.002375        0.078125   1.0  0.000000\n",
       "5           0.062465     0.041410        0.062500   0.0  1.000000\n",
       "...              ...          ...             ...   ...       ...\n",
       "4361        0.006324     0.004103        0.020833   1.0  0.181818\n",
       "4362        0.064462     0.000981        0.317708   1.0  0.818182\n",
       "4363        0.025519     0.003005        0.078125   1.0  0.545455\n",
       "4364        0.006213     0.003554        0.036458   1.0  0.363636\n",
       "4365        0.004771     0.002975        0.020833   1.0  0.181818\n",
       "\n",
       "[4179 rows x 5 columns]"
      ]
     },
     "execution_count": 26,
     "metadata": {
      "tags": []
     },
     "output_type": "execute_result"
    }
   ],
   "source": [
    "def scale(df,col):\n",
    "  min_max_scaler = preprocessing.MinMaxScaler(feature_range =(0, 1)) \n",
    "  # print( min_max_scaler.fit_transform(df[col].reshape))\n",
    "  df[col] = min_max_scaler.fit_transform(df[[col]])\n",
    "\n",
    "for col in df.columns:\n",
    "  scale(df,col)\n",
    "df"
   ]
  },
  {
   "cell_type": "markdown",
   "metadata": {
    "colab_type": "text",
    "id": "gCOJUl2GxMo9"
   },
   "source": [
    "در این قسمت داده ها را برای تست و آموزش جدا کرده ایم  و معمولا ۲۰ درصد را برای تست و بتقی را برای آموزش جدا میکنند"
   ]
  },
  {
   "cell_type": "code",
   "execution_count": 0,
   "metadata": {
    "colab": {},
    "colab_type": "code",
    "id": "aGBs4MIGW9bk"
   },
   "outputs": [],
   "source": [
    "from sklearn.model_selection import train_test_split\n",
    "\n",
    "x_train, x_test, y_train, y_test = train_test_split(df, answer, test_size = 0.2, random_state = 10)"
   ]
  },
  {
   "cell_type": "markdown",
   "metadata": {
    "colab_type": "text",
    "id": "uuohzP0f101Z"
   },
   "source": [
    "# knn\n",
    "\n",
    "همانطور که در نمودار پیدا می باشد برای تست داده آموزش اگر فقط ۱ همسایه دیده شود دچار \n",
    "\n",
    "overfiting  \n",
    "\n",
    "می شود زیاد دقیقن بر روی داده آموزش قزاز میگیرد\n",
    "\n",
    "و هر چه تعداد همسایه ها بیشتر می شود این نموادار به یک خط میل میکند ریزا اما اگه این تعداد همسایه ها نیز حدی دارد و اگر خیلی زیاد شود غلط می شود زیرا ممکن است تعداد همسایه ها از اون محدوده خارج شود و تصمیم غلط گرفته شود"
   ]
  },
  {
   "cell_type": "code",
   "execution_count": 28,
   "metadata": {
    "colab": {
     "base_uri": "https://localhost:8080/",
     "height": 592
    },
    "colab_type": "code",
    "id": "Xn4WyqO0Xpid",
    "outputId": "d6c44310-e2a4-4f85-b054-547779bd6824"
   },
   "outputs": [
    {
     "data": {
      "image/png": "[encoded data removed]",
      "text/plain": [
       "<Figure size 1440x720 with 1 Axes>"
      ]
     },
     "metadata": {
      "needs_background": "light",
      "tags": []
     },
     "output_type": "display_data"
    }
   ],
   "source": [
    "from sklearn.neighbors import KNeighborsClassifier\n",
    "from sklearn.metrics import accuracy_score , confusion_matrix ,classification_report\n",
    "\n",
    "plt.figure(figsize=(20, 10))\n",
    "\n",
    "n = []\n",
    "accuTrain = []\n",
    "accuTest = []\n",
    "for i in range(1,50):\n",
    "  knn=KNeighborsClassifier(n_neighbors=i)\n",
    "  knn.fit(x_train,y_train)\n",
    "  n.append(i)\n",
    "  accuTrain.append(accuracy_score(y_train,knn.predict(x_train)))\n",
    "  accuTest.append(accuracy_score(y_test,knn.predict(x_test)))\n",
    "\n",
    "plt.plot(n, accuTrain, \"r\")\n",
    "\n",
    "plt.plot(n, accuTest, \"b\")\n",
    "\n",
    "\n",
    "plt.show()\n"
   ]
  },
  {
   "cell_type": "code",
   "execution_count": 29,
   "metadata": {
    "colab": {
     "base_uri": "https://localhost:8080/",
     "height": 191
    },
    "colab_type": "code",
    "id": "KTKctX_iZsf_",
    "outputId": "e35b9574-f068-4e7f-8037-541add881034"
   },
   "outputs": [
    {
     "name": "stdout",
     "output_type": "stream",
     "text": [
      "0.7607655502392344\n",
      "              precision    recall  f1-score   support\n",
      "\n",
      "           0       0.68      0.42      0.52       258\n",
      "           1       0.78      0.91      0.84       578\n",
      "\n",
      "    accuracy                           0.76       836\n",
      "   macro avg       0.73      0.67      0.68       836\n",
      "weighted avg       0.75      0.76      0.74       836\n",
      "\n"
     ]
    }
   ],
   "source": [
    "\n",
    "clf=KNeighborsClassifier(n_neighbors=45)\n",
    "clf.fit(x_train,y_train)\n",
    "\n",
    "\n",
    "print(accuracy_score(y_test,clf.predict(x_test)))\n",
    "# confusion_matrix(y_test,clf.predict(x_test))\n",
    "knn = clf.predict(x_test)\n",
    "col = [ \"not back\" , \" back\"]\n",
    "print(classification_report(y_test,clf.predict(x_test)))\n",
    "# print(classification_report(y_test,clf.predict(x_test), target_names=col))"
   ]
  },
  {
   "cell_type": "markdown",
   "metadata": {
    "colab_type": "text",
    "id": "DyJjLUWe1yrW"
   },
   "source": [
    "# decision tree\n",
    "\n",
    "در تست داده ، اگر عمق را زیاد کنیم باعث  \n",
    "\n",
    "overfitting\n",
    "\n",
    " می شود زیرا دقیقن می خواهد بر اساس تمام ویژگی هایی که بر مدل آموزش دیده است تصمیم بگیرد \n",
    "\n",
    "که در تست داده آموزش نتیجه خوب اما در تست داده های تست اینگونه نمی شود\n",
    "\n",
    " همانطور که پیدا است در این مدل استفاده ار ۲ یا ۳ ویژگی بهترین نتیجه را میدهد \n",
    " البته چون ویژگی های ما نیز محدود است هم دخیل می باشد \n",
    " که اگر تعداد بالا برود دچار \n",
    "\n",
    " overfitting  \n",
    "\n",
    "  می شود"
   ]
  },
  {
   "cell_type": "code",
   "execution_count": 30,
   "metadata": {
    "colab": {
     "base_uri": "https://localhost:8080/",
     "height": 592
    },
    "colab_type": "code",
    "id": "uBFHfnBxZBDd",
    "outputId": "250e14eb-99e3-4cca-a1e4-13ff58b40ce6"
   },
   "outputs": [
    {
     "data": {
      "image/png": "[encoded data removed]",
      "text/plain": [
       "<Figure size 1440x720 with 1 Axes>"
      ]
     },
     "metadata": {
      "needs_background": "light",
      "tags": []
     },
     "output_type": "display_data"
    }
   ],
   "source": [
    "from sklearn import tree\n",
    "\n",
    "n = []\n",
    "accuTrain = []\n",
    "accuTest = []\n",
    "for i in range(1,50):\n",
    "  clf = tree.DecisionTreeClassifier(max_depth=i)\n",
    "  clf = clf.fit(x_train, y_train)\n",
    "  n.append(i)\n",
    "  \n",
    "  accuTrain.append(accuracy_score(y_train,clf.predict(x_train)))\n",
    "  accuTest.append(accuracy_score(y_test,clf.predict(x_test)))\n",
    "\n",
    "plt.figure(figsize=(20, 10))\n",
    "plt.plot(n, accuTrain , \"r\")\n",
    "\n",
    "plt.plot(n, accuTest , \"b\")\n",
    "plt.show()\n"
   ]
  },
  {
   "cell_type": "code",
   "execution_count": 31,
   "metadata": {
    "colab": {
     "base_uri": "https://localhost:8080/",
     "height": 173
    },
    "colab_type": "code",
    "id": "1zkCT21utWx4",
    "outputId": "3e1857b9-de9d-47f8-ae73-375db21b8c1b"
   },
   "outputs": [
    {
     "name": "stdout",
     "output_type": "stream",
     "text": [
      "              precision    recall  f1-score   support\n",
      "\n",
      "           0       0.72      0.40      0.51       258\n",
      "           1       0.78      0.93      0.85       578\n",
      "\n",
      "    accuracy                           0.77       836\n",
      "   macro avg       0.75      0.66      0.68       836\n",
      "weighted avg       0.76      0.77      0.74       836\n",
      "\n"
     ]
    }
   ],
   "source": [
    "\n",
    "clf = tree.DecisionTreeClassifier(max_depth=2)\n",
    "clf = clf.fit(x_train, y_train)\n",
    "# print(tree.plot_tree(clf) )\n",
    "Decision = clf.predict(x_test)\n",
    "print(classification_report(y_test,clf.predict(x_test)))"
   ]
  },
  {
   "cell_type": "markdown",
   "metadata": {
    "colab_type": "text",
    "id": "rsj9PuKqaaKF"
   },
   "source": [
    "##LogisticRegression"
   ]
  },
  {
   "cell_type": "code",
   "execution_count": 32,
   "metadata": {
    "colab": {
     "base_uri": "https://localhost:8080/",
     "height": 173
    },
    "colab_type": "code",
    "id": "lGaZW9Ohtrum",
    "outputId": "4120a29e-c634-49c3-ea83-f003a5ac774e"
   },
   "outputs": [
    {
     "name": "stdout",
     "output_type": "stream",
     "text": [
      "              precision    recall  f1-score   support\n",
      "\n",
      "           0       0.63      0.48      0.54       258\n",
      "           1       0.79      0.88      0.83       578\n",
      "\n",
      "    accuracy                           0.75       836\n",
      "   macro avg       0.71      0.68      0.69       836\n",
      "weighted avg       0.74      0.75      0.74       836\n",
      "\n"
     ]
    }
   ],
   "source": [
    "from sklearn.linear_model import LogisticRegression\n",
    "clf = LogisticRegression().fit(x_train, y_train)\n",
    "logistic = clf.predict(x_test)\n",
    "print(classification_report(y_test,clf.predict(x_test)))"
   ]
  },
  {
   "cell_type": "markdown",
   "metadata": {
    "colab_type": "text",
    "id": "erPOt0fxTSxJ"
   },
   "source": [
    "##بخش ۲\n"
   ]
  },
  {
   "cell_type": "markdown",
   "metadata": {
    "colab_type": "text",
    "id": "gsen4zzk-8HJ"
   },
   "source": [
    "##bagging\n",
    "\n",
    "در این روش ار دیتا یک سری زیرمجموعه جدا می شود و روی هر کدوم از آن ها الگوریتم اجرا میشود و بین جواب ها میانگین گرفته خواهد شد.\n",
    "\n",
    "\n",
    "از مزیت های این روش این می باشد که از \n",
    "\n",
    "orverfittnig \n",
    "\n",
    "جلو گیری می کند زیرا در این زیر مجموعه ها جنبه های مختلف دیتا را نشان میدهد \n",
    "البته در مصال ما به خاطر همگن نبودن و کوچک بودن دیتا خیلی تغییر  زیادی مشاهده نمی شود زیرا باز نیز این زیر مجموعه ها همان خواص داده اصلی را دارا هستند.\n",
    "\n",
    "۲ آرگومان نیز \n",
    "\n",
    "\n",
    "استقاده تعداد فیچر ها و تعداد سمپل ها میباشند که در هر ۲ مدل در بیشترین حالت از نصف آن ها استفاده می شود"
   ]
  },
  {
   "cell_type": "markdown",
   "metadata": {
    "colab_type": "text",
    "id": "tINgS2uPZdz1"
   },
   "source": [
    "KNN\n"
   ]
  },
  {
   "cell_type": "code",
   "execution_count": 33,
   "metadata": {
    "colab": {
     "base_uri": "https://localhost:8080/",
     "height": 173
    },
    "colab_type": "code",
    "id": "ZZVANKRy8CD6",
    "outputId": "11a79f01-9f13-4b40-c114-3fec050a1598"
   },
   "outputs": [
    {
     "name": "stdout",
     "output_type": "stream",
     "text": [
      "              precision    recall  f1-score   support\n",
      "\n",
      "           0       0.73      0.06      0.11       258\n",
      "           1       0.70      0.99      0.82       578\n",
      "\n",
      "    accuracy                           0.70       836\n",
      "   macro avg       0.71      0.53      0.47       836\n",
      "weighted avg       0.71      0.70      0.60       836\n",
      "\n"
     ]
    }
   ],
   "source": [
    "\n",
    "\n",
    "from sklearn.ensemble import BaggingClassifier\n",
    "\n",
    "bagging = BaggingClassifier(KNeighborsClassifier(n_neighbors=45),max_samples=0.5, max_features=0.5,n_estimators=5)\n",
    "bagging.fit(x_train, y_train)\n",
    "bagging.predict(x_test)\n",
    "print(classification_report(y_test,bagging.predict(x_test)))\n",
    "\n",
    "\n"
   ]
  },
  {
   "cell_type": "markdown",
   "metadata": {
    "colab_type": "text",
    "id": "ui3L6dZQ3peB"
   },
   "source": [
    "DecisionTree"
   ]
  },
  {
   "cell_type": "code",
   "execution_count": 41,
   "metadata": {
    "colab": {
     "base_uri": "https://localhost:8080/",
     "height": 173
    },
    "colab_type": "code",
    "id": "ierqSlK_kmFG",
    "outputId": "3e271f7d-9cb6-4534-8545-0149d125d9ea"
   },
   "outputs": [
    {
     "name": "stdout",
     "output_type": "stream",
     "text": [
      "              precision    recall  f1-score   support\n",
      "\n",
      "           0       0.74      0.12      0.21       258\n",
      "           1       0.72      0.98      0.83       578\n",
      "\n",
      "    accuracy                           0.72       836\n",
      "   macro avg       0.73      0.55      0.52       836\n",
      "weighted avg       0.72      0.72      0.64       836\n",
      "\n"
     ]
    }
   ],
   "source": [
    "\n",
    "bagging = BaggingClassifier(tree.DecisionTreeClassifier(max_depth=2),max_samples=0.5, max_features=0.5,n_estimators=2)\n",
    "bagging.fit(x_train, y_train)\n",
    "bagging.predict(x_test)\n",
    "print(classification_report(y_test,bagging.predict(x_test)))\n"
   ]
  },
  {
   "cell_type": "markdown",
   "metadata": {
    "colab_type": "text",
    "id": "-BZGNHqcZe9F"
   },
   "source": [
    "RandomForest\n",
    "\n",
    "در واقع همان حالت بگینگ درخت تصمیم می باشد که آن را بهبود داده اند ولی در کل یکی می باشند"
   ]
  },
  {
   "cell_type": "code",
   "execution_count": 35,
   "metadata": {
    "colab": {
     "base_uri": "https://localhost:8080/",
     "height": 173
    },
    "colab_type": "code",
    "id": "0qfsavEjZG6l",
    "outputId": "b536c939-44dc-44ec-b21a-af0fe403c9bd"
   },
   "outputs": [
    {
     "name": "stdout",
     "output_type": "stream",
     "text": [
      "              precision    recall  f1-score   support\n",
      "\n",
      "           0       0.67      0.42      0.52       258\n",
      "           1       0.78      0.91      0.84       578\n",
      "\n",
      "    accuracy                           0.76       836\n",
      "   macro avg       0.73      0.67      0.68       836\n",
      "weighted avg       0.75      0.76      0.74       836\n",
      "\n"
     ]
    }
   ],
   "source": [
    "from sklearn.ensemble import RandomForestClassifier\n",
    "clf = RandomForestClassifier(n_estimators=30, max_depth=4, max_features=5).fit(x_train, y_train)\n",
    "clf.predict(x_test)\n",
    "print(classification_report(y_test,clf.predict(x_test)))"
   ]
  },
  {
   "cell_type": "markdown",
   "metadata": {
    "colab_type": "text",
    "id": "oSMlKrwXK10O"
   },
   "source": [
    "اگر عمق را زیاد مکنیم مانند درخت تصمیم دچار \n",
    "\n",
    "overfitting \n",
    "\n",
    " می شود پس رفته رفته نمودار پایین می آید\n",
    "\n",
    "\n",
    " و هر چه تعداد فیچر ها بیشتر باشد می تواند قدرت را بالاتر ببرد زیرا می تواند در ساخت درخت ها از ویژگی های متفاوت استفاده کننم\n",
    "\n",
    "\n",
    " همچنین اگر تعداد درخت ها نیز خیلی زیاذ شود باز دچار\n",
    " \n",
    "  overfitting \n",
    "\n",
    " می شویم زیار با توجه به محدود بودن ویژگی ها و داده ها این درخت ها تکرار می شوند"
   ]
  },
  {
   "cell_type": "code",
   "execution_count": 36,
   "metadata": {
    "colab": {
     "base_uri": "https://localhost:8080/",
     "height": 538
    },
    "colab_type": "code",
    "id": "BV9wvpT9D-Qg",
    "outputId": "82d56454-21b1-48fc-f643-348a1127ecd0"
   },
   "outputs": [
    {
     "data": {
      "image/png": "[encoded data removed]",
      "text/plain": [
       "<Figure size 1080x648 with 1 Axes>"
      ]
     },
     "metadata": {
      "needs_background": "light",
      "tags": []
     },
     "output_type": "display_data"
    }
   ],
   "source": [
    "d = []\n",
    "f = []\n",
    "e = []\n",
    "n= []\n",
    "for i in range(1,6):\n",
    "  clf = RandomForestClassifier(n_estimators=30, max_depth=i, max_features=5).fit(x_train, y_train)\n",
    "  clfe = RandomForestClassifier(n_estimators=200 + i, max_depth=4, max_features=5).fit(x_train, y_train)\n",
    "  clfd = RandomForestClassifier(n_estimators=30, max_depth=4, max_features=i).fit(x_train, y_train)\n",
    "  n.append(i)\n",
    "  \n",
    "  f.append(accuracy_score(y_test,clf.predict(x_test)))\n",
    "  d.append(accuracy_score(y_test,clfd.predict(x_test)))\n",
    "  e.append(accuracy_score(y_test,clfe.predict(x_test)))\n",
    "\n",
    "plt.figure(figsize=(15, 9))\n",
    "plt.plot(n, f , \"r\")\n",
    "plt.plot(n, d , \"b\")\n",
    "plt.plot(n, e , \"y\")\n",
    "plt.show()\n",
    "\n",
    "# f = []\n",
    "# n= []\n",
    "# for i in range(1,15):\n",
    "#   clf = RandomForestClassifier(n_estimators=30, max_depth=i, max_features=5).fit(x_train, y_train)\n",
    "#   n.append(i)\n",
    "#   f.append(accuracy_score(y_test,clf.predict(x_test)))\n",
    "  \n",
    "# plt.figure(figsize=(15, 9))\n",
    "# plt.plot(n, f , \"r\")"
   ]
  },
  {
   "cell_type": "markdown",
   "metadata": {
    "colab_type": "text",
    "id": "K0B-ESzUQMlV"
   },
   "source": [
    " زمانی که از بگینگ استفاده می شود چون از دیتا زیر مجموعه هایی گگرفته می شود باید\n",
    "\n",
    "overfitting \n",
    "\n",
    "و همین طور هم هست و می بینیم که بادرصد ها کمنر از حالت عادی می باشد که \n",
    "overfitting \n",
    "\n",
    "شده\n",
    "\n",
    "\n"
   ]
  },
  {
   "cell_type": "code",
   "execution_count": 37,
   "metadata": {
    "colab": {
     "base_uri": "https://localhost:8080/",
     "height": 330
    },
    "colab_type": "code",
    "id": "wspZHzcwO-Uv",
    "outputId": "5a2a90b9-ac09-46f2-cf33-6dbb421c8b70"
   },
   "outputs": [
    {
     "name": "stdout",
     "output_type": "stream",
     "text": [
      "              precision    recall  f1-score   support\n",
      "\n",
      "           0       0.82      0.47      0.60      1084\n",
      "           1       0.79      0.95      0.86      2259\n",
      "\n",
      "    accuracy                           0.80      3343\n",
      "   macro avg       0.81      0.71      0.73      3343\n",
      "weighted avg       0.80      0.80      0.78      3343\n",
      "\n",
      "              precision    recall  f1-score   support\n",
      "\n",
      "           0       0.98      0.97      0.98      1084\n",
      "           1       0.98      0.99      0.99      2259\n",
      "\n",
      "    accuracy                           0.98      3343\n",
      "   macro avg       0.98      0.98      0.98      3343\n",
      "weighted avg       0.98      0.98      0.98      3343\n",
      "\n"
     ]
    }
   ],
   "source": [
    "bagging = BaggingClassifier(tree.DecisionTreeClassifier(max_depth=20),max_samples=0.5, max_features=0.5,n_estimators=7)\n",
    "bagging.fit(x_train, y_train)\n",
    "# bagging.predict(x_test)\n",
    "print(classification_report(y_train,bagging.predict(x_train)))\n",
    "\n",
    "clf = tree.DecisionTreeClassifier(max_depth=20)\n",
    "clf = clf.fit(x_train, y_train)\n",
    "# print(tree.plot_tree(clf) )\n",
    "# clf.predict(x_test)\n",
    "print(classification_report(y_train,clf.predict(x_train)))"
   ]
  },
  {
   "cell_type": "markdown",
   "metadata": {
    "colab_type": "text",
    "id": "iES3DrQHQ-QI"
   },
   "source": [
    "به همین شکستن داده و یا انتخاب فیچر و غیره \n",
    "\n",
    "bootstraping\n",
    "\n",
    "\n",
    "میگویند که روش \n",
    "\n",
    "bagging \n",
    "\n",
    "یکی از این روش هاست\n",
    "\n",
    "این روش باعص می شود تست داده آموزش بد تر شود زیرا در آن زیرمجموعه ها ممکن است همون داده آموزشن ، آموزش داده نشده باشد اما باعص بهتر شدن پیشبینی  داده ی تست می شود زیرا از زوایای مختلف داده ها مورد بررسی قرار گرفته اند"
   ]
  },
  {
   "cell_type": "markdown",
   "metadata": {
    "colab_type": "text",
    "id": "eK0QPhRXRtWD"
   },
   "source": [
    "این روش \n",
    "\n",
    "voting \n",
    "\n",
    "می آید چندین مدل را محاسبه می کند و از بین جواب ها آن را که بیشتر آمده انتخاب میکند.(می تواند ورن دار هم باشد)\n",
    "\n",
    "در اینجا تفاوت چندانی حاصل نشده است زیرا هر ۳ مدل شبیه هم رفتار کرده اند\n",
    "\n"
   ]
  },
  {
   "cell_type": "code",
   "execution_count": 38,
   "metadata": {
    "colab": {
     "base_uri": "https://localhost:8080/",
     "height": 173
    },
    "colab_type": "code",
    "id": "QZVT6yuRS76c",
    "outputId": "9052195b-2996-4a6a-cbdd-d2d7e032e1bc"
   },
   "outputs": [
    {
     "name": "stdout",
     "output_type": "stream",
     "text": [
      "              precision    recall  f1-score   support\n",
      "\n",
      "           0       0.68      0.43      0.53       258\n",
      "           1       0.78      0.91      0.84       578\n",
      "\n",
      "    accuracy                           0.76       836\n",
      "   macro avg       0.73      0.67      0.68       836\n",
      "weighted avg       0.75      0.76      0.74       836\n",
      "\n"
     ]
    }
   ],
   "source": [
    "from sklearn.ensemble import VotingClassifier\n",
    "clf1 = KNeighborsClassifier(n_neighbors=45)\n",
    "clf2 = tree.DecisionTreeClassifier(max_depth=2)\n",
    "clf3 = LogisticRegression()\n",
    "\n",
    "clf = VotingClassifier(estimators=[('knn', clf1), ('deci', clf2), ('logis', clf3)], voting='hard').fit(x_train, y_train)\n",
    "print(classification_report(y_test,clf.predict(x_test)))"
   ]
  },
  {
   "cell_type": "markdown",
   "metadata": {
    "colab_type": "text",
    "id": "lGJtXkwhoyyF"
   },
   "source": [
    "همانطور در این قسمت می بینیم ، جواب های پیشبینی شده توسط این ۳ مدل بسیار شبیه و نزدیک به هم می باشد و همانطور که گفته شد یکی از دلیل هایی که قسمت بالا تاثیر زیادی در جواب ها نداشت همین بود"
   ]
  },
  {
   "cell_type": "code",
   "execution_count": 46,
   "metadata": {
    "colab": {
     "base_uri": "https://localhost:8080/",
     "height": 69
    },
    "colab_type": "code",
    "id": "KaNpYrEFdDVH",
    "outputId": "13fefb63-a328-410a-8251-da7d75fd89e7"
   },
   "outputs": [
    {
     "name": "stdout",
     "output_type": "stream",
     "text": [
      "knn and decision tree 0.9700956937799043\n",
      "knn and decision logistic 0.9521531100478469\n",
      "logistic and decision tree 0.9294258373205742\n"
     ]
    }
   ],
   "source": [
    "knnDeci = 0\n",
    "knnLog = 0 \n",
    "deciLog = 0\n",
    "\n",
    "for i in range(len(logistic)):\n",
    "  if logistic[i] == knn[i]:\n",
    "    knnLog += 1\n",
    "  if logistic[i] == Decision[i]:\n",
    "    deciLog += 1\n",
    "  if knn[i] == Decision[i]:\n",
    "    knnDeci += 1\n",
    "\n",
    "print(\"knn and decision tree\",knnDeci / len(logistic))\n",
    "print(\"knn and decision logistic\",knnLog / len(logistic))\n",
    "print(\"logistic and decision tree\",deciLog / len(logistic))"
   ]
  },
  {
   "cell_type": "code",
   "execution_count": 0,
   "metadata": {
    "colab": {},
    "colab_type": "code",
    "id": "yfRN-8MeomUf"
   },
   "outputs": [],
   "source": []
  }
 ],
 "metadata": {
  "colab": {
   "collapsed_sections": [],
   "name": "AI_CA4.ipynb",
   "provenance": []
  },
  "kernelspec": {
   "display_name": "Python 3",
   "language": "python",
   "name": "python3"
  },
  "language_info": {
   "codemirror_mode": {
    "name": "ipython",
    "version": 3
   },
   "file_extension": ".py",
   "mimetype": "text/x-python",
   "name": "python",
   "nbconvert_exporter": "python",
   "pygments_lexer": "ipython3",
   "version": "3.6.9"
  }
 },
 "nbformat": 4,
 "nbformat_minor": 1
}
