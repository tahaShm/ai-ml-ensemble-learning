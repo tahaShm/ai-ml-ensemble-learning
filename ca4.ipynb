{
 "cells": [
  {
   "cell_type": "markdown",
   "metadata": {},
   "source": [
    "<h1 style = \"font-size: 35px; text-align: center;\">AI CA4</h1>\n",
    "<h1 style = \"font-size: 35px; text-align: center;\">Machine Learning</h1>\n",
    "<h1 style = \"font-size: 32px; text-align: center; color: #666\">Taha Shabani 810196491</h1>"
   ]
  },
  {
   "cell_type": "markdown",
   "metadata": {},
   "source": [
    "<br>\n",
    "<h1 style = \"text-align: center\">Prelude</h1>\n",
    "<br>\n",
    "<h2>Definition of project:</h2>\n",
    "<p style = \"font-size: 14px\">The goal of this project is an introduction to machine learning (supervised learning). We will work with <mark>scikit learn</mark> library and its various classifiers like <b>KNN, Decision Tree, and Logistic</b>, then we'll try to optimize accuracy and precision by using random forest, hyperparameters tuning, and ...\n",
    "<br>    \n",
    "<br>\n",
    "First of all, we read dataset from <mark>data.csv</mark> file, preprocess on it and calculate <mark>information gain</mark> for all features, this would be end of <b>Phase 0</b>.\n",
    "<br>\n",
    "<br>    \n",
    "In <b>Phase 1</b> we implement 3 classifiers and evaluate their accuracy parameters and try to tune its hyperparameters to achieve better results.\n",
    "<br>\n",
    "<br>    \n",
    "Ultimately in <b>Phase 2</b> we use <mark>bagging</mark> for KNN and Decision Tree and <mark>Random forest</mark>, and then we will show the effect of bagging on overfitting.\n",
    "</p>"
   ]
  },
  {
   "cell_type": "markdown",
   "metadata": {},
   "source": [
    "<br>\n",
    "\n",
    "<h1 style= \"text-align: center\">Phase 0</h1>\n",
    "<br>\n",
    "<h3> 1. Preprocessing data: </h3>\n",
    "<p>After reading data.csv file, <mark>getProcessedData()</mark> preprocesses these data and returns data and target value. Preprocessing consists of these steps: </p>\n",
    "<p style=\"text-indent :2em;\">1. <mark>Date analysis</mark>: preprocessDate() extract useful information from raw date, for instance: year, month, day, day of week, which can help us to gather better features.</p>\n",
    "<p style=\"text-indent :2em;\">2. <mark>Categorial data analysis</mark>: In order to analize categorical data, we have two main choices: <b>1. one hot encoding, 2. labeled encoding</b> which we will explain them soon. but in our project one hot encoding works a bit better (about 2 percents), but you can change one hot to labeled (input parameter of getProcessedData() ). </p>\n",
    "<p style=\"text-indent :2em;\">3. <mark>Scaling</mark>: Most of the times, our dataset will contain features highly varying in magnitudes, units and range. But importance of data is not always the same as variable range, so for some features we need to scale values (scale up or down) to supress their high or low impact and to bring all features to the same level of magnitudes or magnitudes related to their importance. Plus, we have lots of scaling algorithms for example: Standardisation, Min-Max Scaling, and Unit Vector which we used <b>Standardisation</b> for 2 columns that contains wide range of values: <b>Total Quantity and Total Price</b>.</p>\n",
    "\n",
    "<h4 style = \"color: red\">One hot Encodling vs Labeled encoding</h4>\n",
    "<p>\n",
    "    As we mentioned, these encodings are used for categorical data, which in our case is <b>Country</b> column.\n",
    "    <br>\n",
    "    <br>\n",
    "    <mark>One Hot</mark> adds a column for every different values in categorical column and sets the bit for current value to 1 and 0 for the rest. for example if countries are (USA, Frace, Germany) and if current country is Germany we will have (0,0,1).\n",
    "    <br>\n",
    "    On the other side <mark>Labeled</mark> maps every value to a numeric one, for example (USA -> 1, Frace -> 2, Germany -> 3).\n",
    "    <br>\n",
    "    <br>\n",
    "    <b>One Hot cons</b>: As it's clear, OneHot makes the data too big and adds lots of columns, so operations might get a little slower and overfitting is probable. In these cases we use labeled encoding or some method like scaling and ...\n",
    "    <br>\n",
    "    <b>Labeled cons</b>: Label encoding is acceptable for discrete values but not continuous ones, plus, it could trigger some issues for classifers, for example as we said we assigned USA to 1 and Frace to 2, now Frace has a higher value with no reason, and it can be harmful for network accuracy.\n",
    "    \n",
    "    \n",
    "</p>\n",
    "<br>"
   ]
  },
  {
   "cell_type": "code",
   "execution_count": 1,
   "metadata": {},
   "outputs": [],
   "source": [
    "import csv\n",
    "import pandas as pd\n",
    "import math\n",
    "import numpy as np\n",
    "import datetime\n",
    "from sklearn import preprocessing\n",
    "from sklearn.preprocessing import StandardScaler\n",
    "from sklearn.feature_selection import mutual_info_classif\n",
    "import matplotlib.pyplot as plt\n",
    "\n",
    "\n",
    "\n",
    "def preprocessDate(df)  :\n",
    "    df['year'] = df['Date'].dt.year\n",
    "    df['month'] = df['Date'].dt.month\n",
    "    df['day'] = df['Date'].dt.day\n",
    "    df['dayOfWeek'] = df['Date'].dt.dayofweek\n",
    "    \n",
    "    del df['Date']\n",
    "    return df\n",
    "\n",
    "def preprocessLabeledCategorical(data, df) : \n",
    "    countries = df['Country'].tolist() \n",
    "    le = preprocessing.LabelEncoder()\n",
    "    le.fit(countries)\n",
    "    # print(list(le.classes_))\n",
    "    transformedCountries = le.transform(countries)\n",
    "    for i in range(len(data)) : \n",
    "        data[i]['Country'] = transformedCountries[i]\n",
    "    \n",
    "    return data\n",
    "\n",
    "def scaleData(data):\n",
    "    scalableData = []\n",
    "    for row in data:\n",
    "        scalableData.append([row[\"Total Quantity\"], row[\"Total Price\"]])\n",
    "    \n",
    "    scaler = StandardScaler()\n",
    "    scaler.fit(scalableData)\n",
    "    transformedData = scaler.transform(scalableData)\n",
    "    \n",
    "    for i in range(len(data)) :\n",
    "        data[i]['Total Quantity'] = transformedData[i][0]\n",
    "        data[i]['Total Price'] = transformedData[i][1]\n",
    "    \n",
    "    return data                            \n",
    "\n",
    "def getProcessedData(dataFile, encodingType) : \n",
    "    data = []\n",
    "    targetData = []\n",
    "    col_list = [\"Customer ID\", \"Total Quantity\", \"Total Price\", \"Country\", \"Date\", \"Is Back\", \"Purchase Count\"]\n",
    "    df = pd.read_csv(dataFile, usecols=col_list)\n",
    "    df['Date']= pd.to_datetime(df['Date'])\n",
    "    \n",
    "    if (encodingType == \"oneHot\") :\n",
    "        df = pd.concat([df,pd.get_dummies(df['Country'], prefix = \"country\")],axis=1).drop(['Country'],axis=1)\n",
    "\n",
    "\n",
    "    \n",
    "    df = preprocessDate(df)\n",
    "    \n",
    "    for index, dfRow in df.iterrows() : \n",
    "        if (dfRow['Is Back'] == 'Yes') : \n",
    "            dfRow['Is Back'] = 1\n",
    "        else:\n",
    "            dfRow['Is Back'] = 0\n",
    "            \n",
    "        targetData.append(dfRow['Is Back'])    \n",
    "        del dfRow['Is Back']\n",
    "        del dfRow['Customer ID']\n",
    "        data.append(dfRow)\n",
    "        \n",
    "    if (encodingType == \"labeled\") :\n",
    "        preprocessLabeledCategorical(data, df)\n",
    "        \n",
    "    data = scaleData(data)\n",
    "    \n",
    "    labels = list(df)\n",
    "    labels.remove('Customer ID')\n",
    "    labels.remove('Is Back')\n",
    "    return [data, targetData, labels]"
   ]
  },
  {
   "cell_type": "markdown",
   "metadata": {},
   "source": [
    "<br>\n",
    "<h3> 2. Calculating informaition gain. </h3>\n",
    "<p>Information gain represents difference between entropy before and after spliting for a feature (in decision tree) and as its bigger, it's better to be used first. we Used <mark>mutual_info_classif()</mark> (a provided function in scikit_learn) to measure information gains. The result is shown on a plot below.</p>\n",
    "\n",
    "<p>In order to have a reliable information gains to work with, we eliminate <b>'Customer ID' and 'Is Back'</b> columns because 'Customer ID' is a unique field and can not help us in our classification, but it would have high gain because of its uniqueness and 'Is Back' is the target column that we want to learn so it must be in targetData not data.</p>\n",
    "\n",
    "<p>Extraced data from date such as year, month, day of week, (maybe because in some months and holidays shopping is more reasonable than the other times). and some other features (Total price: we scaled it) have high gains.<p>"
   ]
  },
  {
   "cell_type": "code",
   "execution_count": 2,
   "metadata": {},
   "outputs": [],
   "source": [
    "[data, targetData, labels] = getProcessedData(\"data.csv\", \"oneHot\") #second parameter: \"labeled\" or \"oneHot\"\n",
    "\n",
    "informationGains = mutual_info_classif(data, targetData)"
   ]
  },
  {
   "cell_type": "code",
   "execution_count": 3,
   "metadata": {},
   "outputs": [
    {
     "data": {
      "image/png": "[encoded data removed]",
      "text/plain": [
       "<Figure size 864x432 with 1 Axes>"
      ]
     },
     "metadata": {
      "needs_background": "light"
     },
     "output_type": "display_data"
    }
   ],
   "source": [
    "def showInformationGains() :\n",
    "    plt.figure(figsize=(12, 6))\n",
    "    plt.plot(informationGains) \n",
    "    plt.xticks(range(len(labels)), labels, rotation=90)\n",
    "    plt.xlabel('Features') \n",
    "    plt.ylabel('Gain') \n",
    "    plt.title('Information Gain') \n",
    "\n",
    "    plt.show()\n",
    "showInformationGains()"
   ]
  },
  {
   "cell_type": "markdown",
   "metadata": {},
   "source": [
    "<br>\n",
    "\n",
    "<h1 style= \"text-align: center\">Phase 1</h1>\n",
    "<br>\n",
    "<h3> 1. Train and Test splition: </h3>\n",
    "<p>First we split data with <mark>train_test_split()</mark> (provided in scikit) into four chunks: 1- training data. 2- target values for training data. 3- test data. 4- target values for test data.</p>\n",
    "<p>size of Test is 20% of total and random_state is a variable used for shuffling data.</p>\n",
    "\n",
    "<br>\n",
    "\n",
    "<h3> 2. Classifications : </h3>\n",
    "<p>Here, we settle three classifiers, tune and compare them: </p>\n",
    "\n",
    "<p style=\"text-indent :2em;\">1. <mark>KNN (k nearest neighbors)</mark>: classifyKnn() uses <mark>KNeighborsClassifier()</mark> (provided in scikit) to implement KNN classifier. This classifier sees the k most relevant data (nearest) to make a decision for new values. we set hyperparameter <b>k</b> = 8 to achieve best result. (results based on k are available in diagrams at the end of this phase).</p>\n",
    "<p style=\"text-indent :2em;\">2. <mark>Decision Tree</mark>: classifyDecisionTree() uses <mark>DecisionTreeClassifier()</mark> (provided in scikit) to implement decision tree classifier. This classifier split data with each feature into different groups. it first splits with those features which have higher gain. we set hyperparameter <b>d</b> = 4 for max depth to achieve best result. (results based on d are available in diagrams at the end of this phase). </p>\n",
    "<p style=\"text-indent :2em;\">3. <mark>Logistic</mark>: classifyLogistic() uses <mark>classifyLogistic()</mark> (provided in scikit) to implement logistic classifier. This classifier is a regression classifier which is used for discrete values. It also solves the problem of linear classifier by adding a range limitation for function h().</p>\n",
    "<a href = \"https://towardsdatascience.com/logistic-regression-b0af09cdb8ad\">This link for more.</a>\n",
    "\n",
    "<br>"
   ]
  },
  {
   "cell_type": "code",
   "execution_count": 4,
   "metadata": {},
   "outputs": [],
   "source": [
    "from sklearn.model_selection import train_test_split\n",
    "from sklearn.neighbors import KNeighborsClassifier\n",
    "\n",
    "from sklearn.model_selection import cross_val_score\n",
    "from sklearn.tree import DecisionTreeClassifier\n",
    "\n",
    "from sklearn.linear_model import LogisticRegression\n",
    "\n",
    "trainData, testData, trainTarget, testTarget = train_test_split(data, targetData, test_size=0.20, random_state=30)\n",
    "\n",
    "\n",
    "def classifyKnn(n = 8) : \n",
    "    knnTestPredic = []\n",
    "    knnTrainPredic = []\n",
    "    \n",
    "    neigh = KNeighborsClassifier(n_neighbors=n)\n",
    "    neigh.fit(trainData, trainTarget)\n",
    "    \n",
    "    knnTestPredic = neigh.predict(testData)\n",
    "       \n",
    "    knnTrainPredic = neigh.predict(trainData)\n",
    "        \n",
    "    return [knnTrainPredic, knnTestPredic]\n",
    "\n",
    "def classifyDecisionTree(d = 4) : \n",
    "    treeTestPredic = []\n",
    "    treeTrainPredic = []\n",
    "    \n",
    "    clf = DecisionTreeClassifier(random_state=10, max_depth=d)\n",
    "    clf.fit(trainData, trainTarget)\n",
    "     \n",
    "    treeTestPredic = clf.predict(testData)\n",
    "    \n",
    "    treeTrainPredic = clf.predict(trainData)\n",
    "        \n",
    "    return [treeTrainPredic, treeTestPredic]\n",
    "    \n",
    "def classifyLogistic() : \n",
    "    logisticTestPredic = []\n",
    "    logisticTrainPredic = []\n",
    "    \n",
    "#     if errors -> max_iter = 10000\n",
    "    \n",
    "    clf = LogisticRegression(max_iter=10000).fit(trainData, trainTarget)\n",
    "    \n",
    "    \n",
    "    logisticTestPredic = clf.predict(testData)\n",
    "    \n",
    "    logisticTrainPredic = clf.predict(trainData)\n",
    "        \n",
    "    return [logisticTrainPredic, logisticTestPredic]\n",
    "    \n",
    "knnPredictions = classifyKnn()\n",
    "treePredictions = classifyDecisionTree()\n",
    "logisticPredictions = classifyLogistic()"
   ]
  },
  {
   "cell_type": "markdown",
   "metadata": {},
   "source": [
    "<br>\n",
    "\n",
    "<h3> 3. Calculating (accuracy, precision, and recall) : </h3>\n",
    "<p>After classifiers implementation we should test them and check accuracy, precision, and recall. In order to do that : </p>\n",
    "\n",
    "<p style=\"text-indent :2em;\">1. <mark>precision_score(average='weighted')</mark>: (provided in scikit) This function calculate precison for both Train and Test data. Parameter: average shows how we average results. By default it is binary but we need to calculate weighted because the weight of each target value is important too.</p>\n",
    "<p style=\"text-indent :2em;\">2. <mark>accuracy_score</mark>: (provided in scikit) This function to calculate accuracy of classifiers for both Train and Test data.</p>\n",
    "<p style=\"text-indent :2em;\">3. <mark>recall_score(average='weighted')</mark>: (provided in scikit) This function calculate recall for both Train and Test data. Parameter: average is same as what is for precision_score.</p>"
   ]
  },
  {
   "cell_type": "code",
   "execution_count": 5,
   "metadata": {},
   "outputs": [],
   "source": [
    "from sklearn.metrics import average_precision_score\n",
    "from sklearn.metrics import precision_score\n",
    "from sklearn.metrics import accuracy_score\n",
    "from sklearn.metrics import recall_score\n",
    "\n",
    "def showPrecisions() : \n",
    "    knnTrainPrecision = \"{:.2f}\".format(precision_score(trainTarget, knnPredictions[0], average = 'weighted') * 100)\n",
    "    knnTestPrecision = \"{:.2f}\".format(precision_score(testTarget, knnPredictions[1], average = 'weighted') * 100)\n",
    "\n",
    "    treeTrainPrecision = \"{:.2f}\".format(precision_score(trainTarget, treePredictions[0], average = 'weighted') * 100)\n",
    "    treeTestPrecision = \"{:.2f}\".format(precision_score(testTarget, treePredictions[1], average = 'weighted') * 100)\n",
    "    \n",
    "    logisticTrainPrecision = \"{:.2f}\".format(precision_score(trainTarget, logisticPredictions[0], average = 'weighted') * 100)\n",
    "    logisticTestPrecision = \"{:.2f}\".format(precision_score(testTarget, logisticPredictions[1], average = 'weighted') * 100)\n",
    "    \n",
    "    \n",
    "    df2 = pd.DataFrame (columns = ['Precision', 'KNN', 'Decision Tree', 'Logistic'])\n",
    "    df2['Precision'] = ['Train', 'Test']\n",
    "    df2['KNN'] = [knnTrainPrecision, knnTestPrecision]\n",
    "    df2['Decision Tree'] = [treeTrainPrecision, treeTestPrecision]\n",
    "    df2['Logistic'] = [logisticTrainPrecision, logisticTestPrecision]\n",
    "    \n",
    "    return df2\n",
    "\n",
    "def showAccuracy() : \n",
    "    knnTrainPrecision = \"{:.2f}\".format(accuracy_score(trainTarget, knnPredictions[0]) * 100)\n",
    "    knnTestPrecision = \"{:.2f}\".format(accuracy_score(testTarget, knnPredictions[1]) * 100)\n",
    "\n",
    "    treeTrainPrecision = \"{:.2f}\".format(accuracy_score(trainTarget, treePredictions[0]) * 100)\n",
    "    treeTestPrecision = \"{:.2f}\".format(accuracy_score(testTarget, treePredictions[1]) * 100)\n",
    "    \n",
    "    logisticTrainPrecision = \"{:.2f}\".format(accuracy_score(trainTarget, logisticPredictions[0]) * 100)\n",
    "    logisticTestPrecision = \"{:.2f}\".format(accuracy_score(testTarget, logisticPredictions[1]) * 100)\n",
    "    \n",
    "    \n",
    "    df2 = pd.DataFrame (columns = ['Accuracy', 'KNN', 'Decision Tree', 'Logistic'])\n",
    "    df2['Accuracy'] = ['Train', 'Test']\n",
    "    df2['KNN'] = [knnTrainPrecision, knnTestPrecision]\n",
    "    df2['Decision Tree'] = [treeTrainPrecision, treeTestPrecision]\n",
    "    df2['Logistic'] = [logisticTrainPrecision, logisticTestPrecision]\n",
    "    \n",
    "    return df2\n",
    "\n",
    "def showRecall() : \n",
    "    knnTrainPrecision = \"{:.2f}\".format(recall_score(trainTarget, knnPredictions[0], average = 'weighted') * 100)\n",
    "    knnTestPrecision = \"{:.2f}\".format(recall_score(testTarget, knnPredictions[1], average = 'weighted') * 100)\n",
    "\n",
    "    treeTrainPrecision = \"{:.2f}\".format(recall_score(trainTarget, treePredictions[0], average = 'weighted') * 100)\n",
    "    treeTestPrecision = \"{:.2f}\".format(recall_score(testTarget, treePredictions[1], average = 'weighted') * 100)\n",
    "    \n",
    "    logisticTrainPrecision = \"{:.2f}\".format(recall_score(trainTarget, logisticPredictions[0], average = 'weighted') * 100)\n",
    "    logisticTestPrecision = \"{:.2f}\".format(recall_score(testTarget, logisticPredictions[1], average = 'weighted') * 100)\n",
    "    \n",
    "    \n",
    "    df2 = pd.DataFrame (columns = ['Recall', 'KNN', 'Decision Tree', 'Logistic'])\n",
    "    df2['Recall'] = ['Train', 'Test']\n",
    "    df2['KNN'] = [knnTrainPrecision, knnTestPrecision]\n",
    "    df2['Decision Tree'] = [treeTrainPrecision, treeTestPrecision]\n",
    "    df2['Logistic'] = [logisticTrainPrecision, logisticTestPrecision]\n",
    "    \n",
    "    return df2"
   ]
  },
  {
   "cell_type": "code",
   "execution_count": 6,
   "metadata": {},
   "outputs": [
    {
     "data": {
      "text/html": [
       "<div>\n",
       "<style scoped>\n",
       "    .dataframe tbody tr th:only-of-type {\n",
       "        vertical-align: middle;\n",
       "    }\n",
       "\n",
       "    .dataframe tbody tr th {\n",
       "        vertical-align: top;\n",
       "    }\n",
       "\n",
       "    .dataframe thead th {\n",
       "        text-align: right;\n",
       "    }\n",
       "</style>\n",
       "<table border=\"1\" class=\"dataframe\">\n",
       "  <thead>\n",
       "    <tr style=\"text-align: right;\">\n",
       "      <th></th>\n",
       "      <th>Precision</th>\n",
       "      <th>KNN</th>\n",
       "      <th>Decision Tree</th>\n",
       "      <th>Logistic</th>\n",
       "    </tr>\n",
       "  </thead>\n",
       "  <tbody>\n",
       "    <tr>\n",
       "      <th>0</th>\n",
       "      <td>Train</td>\n",
       "      <td>73.05</td>\n",
       "      <td>74.50</td>\n",
       "      <td>75.76</td>\n",
       "    </tr>\n",
       "    <tr>\n",
       "      <th>1</th>\n",
       "      <td>Test</td>\n",
       "      <td>66.92</td>\n",
       "      <td>71.19</td>\n",
       "      <td>74.07</td>\n",
       "    </tr>\n",
       "  </tbody>\n",
       "</table>\n",
       "</div>"
      ],
      "text/plain": [
       "  Precision    KNN Decision Tree Logistic\n",
       "0     Train  73.05         74.50    75.76\n",
       "1      Test  66.92         71.19    74.07"
      ]
     },
     "execution_count": 6,
     "metadata": {},
     "output_type": "execute_result"
    }
   ],
   "source": [
    "showPrecisions()"
   ]
  },
  {
   "cell_type": "code",
   "execution_count": 7,
   "metadata": {},
   "outputs": [
    {
     "data": {
      "text/html": [
       "<div>\n",
       "<style scoped>\n",
       "    .dataframe tbody tr th:only-of-type {\n",
       "        vertical-align: middle;\n",
       "    }\n",
       "\n",
       "    .dataframe tbody tr th {\n",
       "        vertical-align: top;\n",
       "    }\n",
       "\n",
       "    .dataframe thead th {\n",
       "        text-align: right;\n",
       "    }\n",
       "</style>\n",
       "<table border=\"1\" class=\"dataframe\">\n",
       "  <thead>\n",
       "    <tr style=\"text-align: right;\">\n",
       "      <th></th>\n",
       "      <th>Accuracy</th>\n",
       "      <th>KNN</th>\n",
       "      <th>Decision Tree</th>\n",
       "      <th>Logistic</th>\n",
       "    </tr>\n",
       "  </thead>\n",
       "  <tbody>\n",
       "    <tr>\n",
       "      <th>0</th>\n",
       "      <td>Train</td>\n",
       "      <td>74.03</td>\n",
       "      <td>75.32</td>\n",
       "      <td>68.61</td>\n",
       "    </tr>\n",
       "    <tr>\n",
       "      <th>1</th>\n",
       "      <td>Test</td>\n",
       "      <td>68.31</td>\n",
       "      <td>73.23</td>\n",
       "      <td>70.14</td>\n",
       "    </tr>\n",
       "  </tbody>\n",
       "</table>\n",
       "</div>"
      ],
      "text/plain": [
       "  Accuracy    KNN Decision Tree Logistic\n",
       "0    Train  74.03         75.32    68.61\n",
       "1     Test  68.31         73.23    70.14"
      ]
     },
     "execution_count": 7,
     "metadata": {},
     "output_type": "execute_result"
    }
   ],
   "source": [
    "showAccuracy()"
   ]
  },
  {
   "cell_type": "code",
   "execution_count": 8,
   "metadata": {},
   "outputs": [
    {
     "data": {
      "text/html": [
       "<div>\n",
       "<style scoped>\n",
       "    .dataframe tbody tr th:only-of-type {\n",
       "        vertical-align: middle;\n",
       "    }\n",
       "\n",
       "    .dataframe tbody tr th {\n",
       "        vertical-align: top;\n",
       "    }\n",
       "\n",
       "    .dataframe thead th {\n",
       "        text-align: right;\n",
       "    }\n",
       "</style>\n",
       "<table border=\"1\" class=\"dataframe\">\n",
       "  <thead>\n",
       "    <tr style=\"text-align: right;\">\n",
       "      <th></th>\n",
       "      <th>Recall</th>\n",
       "      <th>KNN</th>\n",
       "      <th>Decision Tree</th>\n",
       "      <th>Logistic</th>\n",
       "    </tr>\n",
       "  </thead>\n",
       "  <tbody>\n",
       "    <tr>\n",
       "      <th>0</th>\n",
       "      <td>Train</td>\n",
       "      <td>74.03</td>\n",
       "      <td>75.32</td>\n",
       "      <td>68.61</td>\n",
       "    </tr>\n",
       "    <tr>\n",
       "      <th>1</th>\n",
       "      <td>Test</td>\n",
       "      <td>68.31</td>\n",
       "      <td>73.23</td>\n",
       "      <td>70.14</td>\n",
       "    </tr>\n",
       "  </tbody>\n",
       "</table>\n",
       "</div>"
      ],
      "text/plain": [
       "  Recall    KNN Decision Tree Logistic\n",
       "0  Train  74.03         75.32    68.61\n",
       "1   Test  68.31         73.23    70.14"
      ]
     },
     "execution_count": 8,
     "metadata": {},
     "output_type": "execute_result"
    }
   ],
   "source": [
    "showRecall()"
   ]
  },
  {
   "cell_type": "code",
   "execution_count": 9,
   "metadata": {},
   "outputs": [],
   "source": [
    "it = 16\n",
    "def showKnnAccuracyDiagram() : \n",
    "    trainPrecisions = []\n",
    "    testPrecisions = []\n",
    "    labels = []\n",
    "    for i in range(2, it) : \n",
    "        print(i, end = \" \")\n",
    "        labels.append(i)\n",
    "        knnPredictions = classifyKnn(i)\n",
    "        trainPrecisions.append((float)(\"{:.2f}\".format(accuracy_score(trainTarget, knnPredictions[0]) * 100)))\n",
    "        testPrecisions.append((float)(\"{:.2f}\".format(accuracy_score(testTarget, knnPredictions[1]) * 100)))\n",
    "        \n",
    "    plt.figure(figsize=(12, 10))\n",
    "    \n",
    "    plt.plot(trainPrecisions) \n",
    "    plt.plot(testPrecisions) \n",
    "    plt.ylim(50, 100)\n",
    "    plt.xticks(range(len(labels)), labels)\n",
    "    plt.xlabel('Neighbors') \n",
    "    plt.ylabel('Accuracy') \n",
    "    plt.title('KNN Accuracy') \n",
    "        \n",
    "    plt.show()\n",
    "    \n",
    "def showDecisionTreeAccuracyDiagram() : \n",
    "    trainPrecisions = []\n",
    "    testPrecisions = []\n",
    "    labels = []\n",
    "    for i in range(2, it) : \n",
    "        print(i, end = \" \")\n",
    "        labels.append(i)\n",
    "        treePredictions = classifyDecisionTree(i)\n",
    "        trainPrecisions.append((float)(\"{:.2f}\".format(accuracy_score(trainTarget, treePredictions[0]) * 100)))\n",
    "        testPrecisions.append((float)(\"{:.2f}\".format(accuracy_score(testTarget, treePredictions[1]) * 100)))\n",
    "        \n",
    "    plt.figure(figsize=(12, 10))\n",
    "    \n",
    "    plt.plot(trainPrecisions) \n",
    "    plt.plot(testPrecisions) \n",
    "    plt.ylim(50, 100)\n",
    "    plt.xticks(range(len(labels)), labels)\n",
    "    plt.xlabel('Max Depth') \n",
    "    plt.ylabel('Accuracy') \n",
    "    plt.title('Decision Tree Accuracy') \n",
    "        \n",
    "    plt.show()\n",
    "\n",
    "def showKnnPrecisionDiagram() : \n",
    "    trainPrecisions = []\n",
    "    testPrecisions = []\n",
    "    labels = []\n",
    "    for i in range(2, it) : \n",
    "        print(i, end = \" \")\n",
    "        labels.append(i)\n",
    "        knnPredictions = classifyKnn(i)\n",
    "        trainPrecisions.append((float)(\"{:.2f}\".format(precision_score(trainTarget, knnPredictions[0], average = 'weighted') * 100)))\n",
    "        testPrecisions.append((float)(\"{:.2f}\".format(precision_score(testTarget, knnPredictions[1], average = 'weighted') * 100)))\n",
    "\n",
    "    plt.figure(figsize=(12, 10))\n",
    "\n",
    "    plt.plot(trainPrecisions) \n",
    "    plt.plot(testPrecisions) \n",
    "    plt.ylim(50, 100)\n",
    "    plt.xticks(range(len(labels)), labels)\n",
    "    plt.xlabel('Neighbors') \n",
    "    plt.ylabel('Precision') \n",
    "    plt.title('KNN Precision') \n",
    "\n",
    "    plt.show()\n",
    "    \n",
    "def showDecisionTreePrecisionDiagram() :\n",
    "    trainPrecisions = []\n",
    "    testPrecisions = []\n",
    "    labels = []\n",
    "    for i in range(2, it) : \n",
    "        print(i, end = \" \")\n",
    "        labels.append(i)\n",
    "        treePredictions = classifyDecisionTree(i)\n",
    "        trainPrecisions.append((float)(\"{:.2f}\".format(precision_score(trainTarget, treePredictions[0], average = 'weighted') * 100)))\n",
    "        testPrecisions.append((float)(\"{:.2f}\".format(precision_score(testTarget, treePredictions[1], average = 'weighted') * 100)))\n",
    "        \n",
    "    plt.figure(figsize=(12, 10))\n",
    "    \n",
    "    plt.plot(trainPrecisions) \n",
    "    plt.plot(testPrecisions) \n",
    "    plt.ylim(50, 100)\n",
    "    plt.xticks(range(len(labels)), labels)\n",
    "    plt.xlabel('Max Depth') \n",
    "    plt.ylabel('Precision') \n",
    "    plt.title('Decision Tree Precision') \n",
    "        \n",
    "    plt.show()"
   ]
  },
  {
   "cell_type": "markdown",
   "metadata": {},
   "source": [
    "<br>\n",
    "\n",
    "<h3> 4. Diagrams (for Decision Tree and KNN) and Overfitting : </h3>\n",
    "<p>We test these 2 classifiers with range of 2 to 15 for their hyperparameters (neighbors for KNN and max depth for Decision Tree), here are the conclusions : </p>\n",
    "\n",
    "<p style=\"text-indent :2em;\">1. <mark>KNN</mark>: For this classifier <b>overfitting</b> occurs with neighbors k < 5 .</p>\n",
    "<p style=\"text-indent :2em;\">2. <mark>Decision Tree</mark>: As diagrams illustrates, for big numbers, <b>overfitting</b> occurs for example for d > 12.</p>\n",
    "\n",
    "<br>\n",
    "\n",
    "<h3> 5. Preprocessings : </h3>\n",
    "<p>Preprocessing described in phase 0.</p>"
   ]
  },
  {
   "cell_type": "code",
   "execution_count": 10,
   "metadata": {},
   "outputs": [
    {
     "name": "stdout",
     "output_type": "stream",
     "text": [
      "2 3 4 5 6 7 8 9 10 11 12 13 14 15 "
     ]
    },
    {
     "data": {
      "image/png": "[encoded data removed]",
      "text/plain": [
       "<Figure size 864x720 with 1 Axes>"
      ]
     },
     "metadata": {
      "needs_background": "light"
     },
     "output_type": "display_data"
    }
   ],
   "source": [
    "showKnnAccuracyDiagram()"
   ]
  },
  {
   "cell_type": "code",
   "execution_count": 11,
   "metadata": {},
   "outputs": [
    {
     "name": "stdout",
     "output_type": "stream",
     "text": [
      "2 3 4 5 6 7 8 9 10 11 12 13 14 15 "
     ]
    },
    {
     "data": {
      "image/png": "[encoded data removed]",
      "text/plain": [
       "<Figure size 864x720 with 1 Axes>"
      ]
     },
     "metadata": {
      "needs_background": "light"
     },
     "output_type": "display_data"
    }
   ],
   "source": [
    "showDecisionTreeAccuracyDiagram()"
   ]
  },
  {
   "cell_type": "code",
   "execution_count": 12,
   "metadata": {},
   "outputs": [
    {
     "name": "stdout",
     "output_type": "stream",
     "text": [
      "2 3 4 5 6 7 8 9 10 11 12 13 14 15 "
     ]
    },
    {
     "data": {
      "image/png": "[encoded data removed]",
      "text/plain": [
       "<Figure size 864x720 with 1 Axes>"
      ]
     },
     "metadata": {
      "needs_background": "light"
     },
     "output_type": "display_data"
    }
   ],
   "source": [
    "showKnnPrecisionDiagram()"
   ]
  },
  {
   "cell_type": "code",
   "execution_count": 13,
   "metadata": {},
   "outputs": [
    {
     "name": "stdout",
     "output_type": "stream",
     "text": [
      "2 3 4 5 6 7 8 9 10 11 12 13 14 15 "
     ]
    },
    {
     "data": {
      "image/png": "[encoded data removed]",
      "text/plain": [
       "<Figure size 864x720 with 1 Axes>"
      ]
     },
     "metadata": {
      "needs_background": "light"
     },
     "output_type": "display_data"
    }
   ],
   "source": [
    "showDecisionTreePrecisionDiagram()"
   ]
  },
  {
   "cell_type": "markdown",
   "metadata": {},
   "source": [
    "<br>\n",
    "\n",
    "<h1 style= \"text-align: center\">Phase 2</h1>\n",
    "<br>\n",
    "<h3> 1. Bagging: </h3>\n",
    "<p>Bagging is an ensemble method. In this method we define multiple classifiers (all the same) with same hyperparameters. then we split data and give each part to a classifier to learn and classify.</p>\n",
    "<p>Bagging has lots of hyperparameters, we talk about the most importants: </p>\n",
    "\n",
    "<p style=\"text-indent :2em;\">1. <mark>n_estimators</mark>: number of estimators (classifiers) that this method is currently using.</p>\n",
    "<p style=\"text-indent :2em;\">2. <mark>max_samples</mark>: Maximum number or percentage of samples that each estimator receives.</p>\n",
    "<p style=\"text-indent :2em;\">3. <mark>max_features</mark>: Maximum number or percentage of total featues that each estimator uses.</p>\n",
    "<p>We define base estimator for 2 classifiers: 1 for KNN and 1 for Decision Tree.</p>\n",
    "\n",
    "<p><b>NOTE: In tables below, logistic values are for phase 1. We used our old functions in order to prevent duplicates.</b></p>\n",
    "\n",
    "<p><b>Improvement?</b> based on the results and as We tested from 3 to 250 for n_estimators, the result doesn't improve more than 3 precents from the origin classifiers.</p>\n",
    "<br>"
   ]
  },
  {
   "cell_type": "code",
   "execution_count": 14,
   "metadata": {},
   "outputs": [
    {
     "name": "stdout",
     "output_type": "stream",
     "text": [
      "In tables below, forth column: Logistic is not related to current phase, it is related to phase1\n"
     ]
    }
   ],
   "source": [
    "from sklearn.ensemble import BaggingClassifier\n",
    "from sklearn.datasets import make_classification\n",
    "\n",
    "def evaluateKNNBagging() :\n",
    "    knnTestPredic = []\n",
    "    knnTrainPredic = []\n",
    "    clf = BaggingClassifier(base_estimator=KNeighborsClassifier(n_neighbors=8), \n",
    "                            max_samples = 0.5, max_features = 0.5, n_estimators=3, random_state=0).fit(trainData, trainTarget)\n",
    "\n",
    "    knnTestPredic = clf.predict(testData)\n",
    "\n",
    "    knnTrainPredic = clf.predict(trainData)\n",
    "        \n",
    "    return [knnTrainPredic, knnTestPredic]\n",
    "    \n",
    "knnPredictions = evaluateKNNBagging()  \n",
    "\n",
    "def evaluateDecisionTreeBagging(d = 4) :\n",
    "    TreeTestPredic = []\n",
    "    TreeTrainPredic = []\n",
    "    clf = BaggingClassifier(base_estimator=DecisionTreeClassifier(max_depth=d), \n",
    "                            max_samples = 0.5, max_features = 0.5, n_estimators=3, random_state=0).fit(trainData, trainTarget)\n",
    "\n",
    "    TreeTestPredic = clf.predict(testData)\n",
    "\n",
    "    TreeTrainPredic = clf.predict(trainData)\n",
    "        \n",
    "    return [TreeTrainPredic, TreeTestPredic]\n",
    "    \n",
    "knnPredictions = evaluateKNNBagging() \n",
    "treePredictions = evaluateDecisionTreeBagging()\n",
    "\n",
    "evaluateKNNBagging()\n",
    "evaluateDecisionTreeBagging()\n",
    "\n",
    "print(\"In tables below, forth column: Logistic is not related to current phase, it is related to phase1\")\n",
    "    "
   ]
  },
  {
   "cell_type": "code",
   "execution_count": 15,
   "metadata": {},
   "outputs": [
    {
     "data": {
      "text/html": [
       "<div>\n",
       "<style scoped>\n",
       "    .dataframe tbody tr th:only-of-type {\n",
       "        vertical-align: middle;\n",
       "    }\n",
       "\n",
       "    .dataframe tbody tr th {\n",
       "        vertical-align: top;\n",
       "    }\n",
       "\n",
       "    .dataframe thead th {\n",
       "        text-align: right;\n",
       "    }\n",
       "</style>\n",
       "<table border=\"1\" class=\"dataframe\">\n",
       "  <thead>\n",
       "    <tr style=\"text-align: right;\">\n",
       "      <th></th>\n",
       "      <th>Precision</th>\n",
       "      <th>KNN</th>\n",
       "      <th>Decision Tree</th>\n",
       "      <th>Logistic</th>\n",
       "    </tr>\n",
       "  </thead>\n",
       "  <tbody>\n",
       "    <tr>\n",
       "      <th>0</th>\n",
       "      <td>Train</td>\n",
       "      <td>74.30</td>\n",
       "      <td>72.79</td>\n",
       "      <td>75.76</td>\n",
       "    </tr>\n",
       "    <tr>\n",
       "      <th>1</th>\n",
       "      <td>Test</td>\n",
       "      <td>69.25</td>\n",
       "      <td>71.15</td>\n",
       "      <td>74.07</td>\n",
       "    </tr>\n",
       "  </tbody>\n",
       "</table>\n",
       "</div>"
      ],
      "text/plain": [
       "  Precision    KNN Decision Tree Logistic\n",
       "0     Train  74.30         72.79    75.76\n",
       "1      Test  69.25         71.15    74.07"
      ]
     },
     "execution_count": 15,
     "metadata": {},
     "output_type": "execute_result"
    }
   ],
   "source": [
    "showPrecisions()"
   ]
  },
  {
   "cell_type": "code",
   "execution_count": 16,
   "metadata": {},
   "outputs": [
    {
     "data": {
      "text/html": [
       "<div>\n",
       "<style scoped>\n",
       "    .dataframe tbody tr th:only-of-type {\n",
       "        vertical-align: middle;\n",
       "    }\n",
       "\n",
       "    .dataframe tbody tr th {\n",
       "        vertical-align: top;\n",
       "    }\n",
       "\n",
       "    .dataframe thead th {\n",
       "        text-align: right;\n",
       "    }\n",
       "</style>\n",
       "<table border=\"1\" class=\"dataframe\">\n",
       "  <thead>\n",
       "    <tr style=\"text-align: right;\">\n",
       "      <th></th>\n",
       "      <th>Accuracy</th>\n",
       "      <th>KNN</th>\n",
       "      <th>Decision Tree</th>\n",
       "      <th>Logistic</th>\n",
       "    </tr>\n",
       "  </thead>\n",
       "  <tbody>\n",
       "    <tr>\n",
       "      <th>0</th>\n",
       "      <td>Train</td>\n",
       "      <td>75.34</td>\n",
       "      <td>74.00</td>\n",
       "      <td>68.61</td>\n",
       "    </tr>\n",
       "    <tr>\n",
       "      <th>1</th>\n",
       "      <td>Test</td>\n",
       "      <td>70.59</td>\n",
       "      <td>72.54</td>\n",
       "      <td>70.14</td>\n",
       "    </tr>\n",
       "  </tbody>\n",
       "</table>\n",
       "</div>"
      ],
      "text/plain": [
       "  Accuracy    KNN Decision Tree Logistic\n",
       "0    Train  75.34         74.00    68.61\n",
       "1     Test  70.59         72.54    70.14"
      ]
     },
     "execution_count": 16,
     "metadata": {},
     "output_type": "execute_result"
    }
   ],
   "source": [
    "showAccuracy()"
   ]
  },
  {
   "cell_type": "code",
   "execution_count": 17,
   "metadata": {},
   "outputs": [
    {
     "data": {
      "text/html": [
       "<div>\n",
       "<style scoped>\n",
       "    .dataframe tbody tr th:only-of-type {\n",
       "        vertical-align: middle;\n",
       "    }\n",
       "\n",
       "    .dataframe tbody tr th {\n",
       "        vertical-align: top;\n",
       "    }\n",
       "\n",
       "    .dataframe thead th {\n",
       "        text-align: right;\n",
       "    }\n",
       "</style>\n",
       "<table border=\"1\" class=\"dataframe\">\n",
       "  <thead>\n",
       "    <tr style=\"text-align: right;\">\n",
       "      <th></th>\n",
       "      <th>Recall</th>\n",
       "      <th>KNN</th>\n",
       "      <th>Decision Tree</th>\n",
       "      <th>Logistic</th>\n",
       "    </tr>\n",
       "  </thead>\n",
       "  <tbody>\n",
       "    <tr>\n",
       "      <th>0</th>\n",
       "      <td>Train</td>\n",
       "      <td>75.34</td>\n",
       "      <td>74.00</td>\n",
       "      <td>68.61</td>\n",
       "    </tr>\n",
       "    <tr>\n",
       "      <th>1</th>\n",
       "      <td>Test</td>\n",
       "      <td>70.59</td>\n",
       "      <td>72.54</td>\n",
       "      <td>70.14</td>\n",
       "    </tr>\n",
       "  </tbody>\n",
       "</table>\n",
       "</div>"
      ],
      "text/plain": [
       "  Recall    KNN Decision Tree Logistic\n",
       "0  Train  75.34         74.00    68.61\n",
       "1   Test  70.59         72.54    70.14"
      ]
     },
     "execution_count": 17,
     "metadata": {},
     "output_type": "execute_result"
    }
   ],
   "source": [
    "showRecall()"
   ]
  },
  {
   "cell_type": "markdown",
   "metadata": {},
   "source": [
    "<br>\n",
    "\n",
    "<h3> 2. Random Forest: </h3>\n",
    "<p>Random Forest is like bagging which takes a percentage of features and data randomly. here we implement a random forest for decision tree and try to achieve a good result: </p>\n",
    "\n",
    "<p style=\"text-indent :2em;\">parameters are like bagging except that we add <mark>max_leaf_nodes</mark> which is being used for relative reduction of impurity..</p>\n",
    "\n",
    "<p>As the result shows, precision of random forest is better than previous results..</p>\n",
    "\n",
    "\n",
    "<p><b>Improvement?</b> About 3 percents from previous ones in average.</p>\n",
    "\n",
    "<p><b>HyperParameters checking :</b></p>\n",
    "<p style=\"text-indent :2em;\"><mark>Max depth: </mark>Best max depth for this random forest is for d = 4 and for big numbers, it causes overfitting.</p>\n",
    "<p style=\"text-indent :2em;\"><mark>Max leaf node: </mark>Best max leaf node is for d = 6 and for big numbers, it results for train and test get nearly equal.</p>\n",
    "<p style=\"text-indent :2em;\"><mark>Max features: </mark>Best max featues is about 40 percents.</p>\n",
    "\n",
    "<br>"
   ]
  },
  {
   "cell_type": "code",
   "execution_count": 18,
   "metadata": {},
   "outputs": [
    {
     "data": {
      "text/html": [
       "<div>\n",
       "<style scoped>\n",
       "    .dataframe tbody tr th:only-of-type {\n",
       "        vertical-align: middle;\n",
       "    }\n",
       "\n",
       "    .dataframe tbody tr th {\n",
       "        vertical-align: top;\n",
       "    }\n",
       "\n",
       "    .dataframe thead th {\n",
       "        text-align: right;\n",
       "    }\n",
       "</style>\n",
       "<table border=\"1\" class=\"dataframe\">\n",
       "  <thead>\n",
       "    <tr style=\"text-align: right;\">\n",
       "      <th></th>\n",
       "      <th>Random Forest</th>\n",
       "      <th>Precision</th>\n",
       "      <th>Accuracy</th>\n",
       "      <th>Recall</th>\n",
       "    </tr>\n",
       "  </thead>\n",
       "  <tbody>\n",
       "    <tr>\n",
       "      <th>0</th>\n",
       "      <td>Train</td>\n",
       "      <td>75.93</td>\n",
       "      <td>74.37</td>\n",
       "      <td>74.37</td>\n",
       "    </tr>\n",
       "    <tr>\n",
       "      <th>1</th>\n",
       "      <td>Test</td>\n",
       "      <td>75.68</td>\n",
       "      <td>72.08</td>\n",
       "      <td>72.08</td>\n",
       "    </tr>\n",
       "  </tbody>\n",
       "</table>\n",
       "</div>"
      ],
      "text/plain": [
       "  Random Forest Precision Accuracy Recall\n",
       "0         Train     75.93    74.37  74.37\n",
       "1          Test     75.68    72.08  72.08"
      ]
     },
     "execution_count": 18,
     "metadata": {},
     "output_type": "execute_result"
    }
   ],
   "source": [
    "from sklearn.ensemble import RandomForestClassifier\n",
    "\n",
    "def evaluateRandomForest(type = \"max_depth\", d = 4) : \n",
    "    TreeTestPredic = []\n",
    "    TreeTrainPredic = []\n",
    "    \n",
    "    if (type == \"max_depth\") : \n",
    "        clf = RandomForestClassifier(max_depth=d, random_state=0, n_estimators=3, max_features=0.5, max_samples=0.5)\n",
    "    elif (type == \"max_leaf\") : \n",
    "        clf = RandomForestClassifier(max_depth=4, max_leaf_nodes = d, random_state=0, n_estimators=3, max_features=0.5, max_samples=0.5)\n",
    "    elif (type == \"max_features\") : \n",
    "        clf = RandomForestClassifier(max_depth=4, random_state=0, n_estimators=3, max_features=d, max_samples=0.5)\n",
    "        \n",
    "    clf.fit(trainData, trainTarget)\n",
    "    \n",
    "    TreeTestPredic = clf.predict(testData)\n",
    "\n",
    "    TreeTrainPredic = clf.predict(trainData)\n",
    "        \n",
    "    return [TreeTrainPredic, TreeTestPredic]\n",
    "\n",
    "def showRandomForestSpecifications(type = \"max_depth\", d = 4) : \n",
    "    treePredictions = evaluateRandomForest(type, d)\n",
    "    \n",
    "    treeTrainPrecision = \"{:.2f}\".format(average_precision_score(trainTarget, treePredictions[0]) * 100)\n",
    "    treeTestPrecision = \"{:.2f}\".format(average_precision_score(testTarget, treePredictions[1]) * 100)\n",
    "\n",
    "    treeTrainAccuracy = \"{:.2f}\".format(accuracy_score(trainTarget, treePredictions[0]) * 100)\n",
    "    treeTestAccuracy = \"{:.2f}\".format(accuracy_score(testTarget, treePredictions[1]) * 100)\n",
    "    \n",
    "    treeTrainRecall = \"{:.2f}\".format(recall_score(trainTarget, treePredictions[0], average = 'weighted') * 100)\n",
    "    treeTestRecall = \"{:.2f}\".format(recall_score(testTarget, treePredictions[1], average = 'weighted') * 100)\n",
    "    \n",
    "    \n",
    "    df2 = pd.DataFrame (columns = ['Random Forest', 'Precision', 'Accuracy', 'Recall'])\n",
    "    \n",
    "    df2['Random Forest'] = ['Train', 'Test']\n",
    "    df2['Precision'] = [treeTrainPrecision, treeTestPrecision]\n",
    "    df2['Accuracy'] = [treeTrainAccuracy, treeTestAccuracy]\n",
    "    df2['Recall'] = [treeTrainRecall, treeTestRecall]\n",
    "    \n",
    "    return df2\n",
    "\n",
    "showRandomForestSpecifications()"
   ]
  },
  {
   "cell_type": "code",
   "execution_count": 19,
   "metadata": {},
   "outputs": [],
   "source": [
    "it = 15\n",
    "def showRFMaxDepthPrecisionRange() : \n",
    "    trainPrecisions = []\n",
    "    testPrecisions = []\n",
    "    labels = []\n",
    "    for i in range(2, it) : \n",
    "        print(i, end = \" \")\n",
    "        labels.append(i)\n",
    "        treePredictions = evaluateRandomForest(\"max_depth\", i)\n",
    "        trainPrecisions.append((float)(\"{:.2f}\".format(average_precision_score(trainTarget, treePredictions[0]) * 100)))\n",
    "        testPrecisions.append((float)(\"{:.2f}\".format(average_precision_score(testTarget, treePredictions[1]) * 100)))\n",
    "\n",
    "    plt.figure(figsize=(10, 6))\n",
    "\n",
    "    plt.plot(trainPrecisions) \n",
    "    plt.plot(testPrecisions) \n",
    "    plt.ylim(50, 100)\n",
    "    plt.xticks(range(len(labels)), labels)\n",
    "    plt.xlabel('Max depth') \n",
    "    plt.ylabel('Precision') \n",
    "    plt.title('Random Forest Precision') \n",
    "\n",
    "    plt.show() \n",
    "    \n",
    "def showRFMaxDepthAccuracyRange() : \n",
    "    trainPrecisions = []\n",
    "    testPrecisions = []\n",
    "    labels = []\n",
    "    for i in range(2, it) : \n",
    "        print(i, end = \" \")\n",
    "        labels.append(i)\n",
    "        treePredictions = evaluateRandomForest(\"max_depth\", i)\n",
    "        trainPrecisions.append((float)(\"{:.2f}\".format(accuracy_score(trainTarget, treePredictions[0]) * 100)))\n",
    "        testPrecisions.append((float)(\"{:.2f}\".format(accuracy_score(testTarget, treePredictions[1]) * 100)))\n",
    "\n",
    "    plt.figure(figsize=(10, 6))\n",
    "\n",
    "    plt.plot(trainPrecisions) \n",
    "    plt.plot(testPrecisions) \n",
    "    plt.ylim(50, 100)\n",
    "    plt.xticks(range(len(labels)), labels)\n",
    "    plt.xlabel('Max Depth') \n",
    "    plt.ylabel('Accuracy') \n",
    "    plt.title('Random Forest Accuracy') \n",
    "\n",
    "    plt.show()\n",
    "    \n",
    "def showRFMaxLeafPrecisionRange() : \n",
    "    trainPrecisions = []\n",
    "    testPrecisions = []\n",
    "    labels = []\n",
    "    for i in range(2, it) : \n",
    "        print(i, end = \" \")\n",
    "        labels.append(i)\n",
    "        treePredictions = evaluateRandomForest(\"max_leaf\", i)\n",
    "        trainPrecisions.append((float)(\"{:.2f}\".format(average_precision_score(trainTarget, treePredictions[0]) * 100)))\n",
    "        testPrecisions.append((float)(\"{:.2f}\".format(average_precision_score(testTarget, treePredictions[1]) * 100)))\n",
    "\n",
    "    plt.figure(figsize=(10, 6))\n",
    "\n",
    "    plt.plot(trainPrecisions) \n",
    "    plt.plot(testPrecisions) \n",
    "    plt.ylim(50, 100)\n",
    "    plt.xticks(range(len(labels)), labels)\n",
    "    plt.xlabel('Max Leaf Nodes') \n",
    "    plt.ylabel('Precision') \n",
    "    plt.title('Random Forest Precision') \n",
    "\n",
    "    plt.show() \n",
    "    \n",
    "def showRFMaxLeafAccuracyRange() : \n",
    "    trainPrecisions = []\n",
    "    testPrecisions = []\n",
    "    labels = []\n",
    "    for i in range(2, it) : \n",
    "        print(i, end = \" \")\n",
    "        labels.append(i)\n",
    "        treePredictions = evaluateRandomForest(\"max_leaf\", i)\n",
    "        trainPrecisions.append((float)(\"{:.2f}\".format(accuracy_score(trainTarget, treePredictions[0]) * 100)))\n",
    "        testPrecisions.append((float)(\"{:.2f}\".format(accuracy_score(testTarget, treePredictions[1]) * 100)))\n",
    "\n",
    "    plt.figure(figsize=(10, 6))\n",
    "\n",
    "    plt.plot(trainPrecisions) \n",
    "    plt.plot(testPrecisions) \n",
    "    plt.ylim(50, 100)\n",
    "    plt.xticks(range(len(labels)), labels)\n",
    "    plt.xlabel('Max Leaf Nodes') \n",
    "    plt.ylabel('Accuracy') \n",
    "    plt.title('Random Forest Accuracy') \n",
    "\n",
    "    plt.show() \n",
    "    \n",
    "def showRFMaxFeaturePrecisionRange() : \n",
    "    trainPrecisions = []\n",
    "    testPrecisions = []\n",
    "    labels = []\n",
    "    for i in range(2, it) : \n",
    "        print(i, end = \" \")\n",
    "        labels.append(\"{:.2f}\".format(i * 100 / it))\n",
    "        treePredictions = evaluateRandomForest(\"max_features\", (float)(i / it))\n",
    "        trainPrecisions.append((float)(\"{:.2f}\".format(average_precision_score(trainTarget, treePredictions[0]) * 100)))\n",
    "        testPrecisions.append((float)(\"{:.2f}\".format(average_precision_score(testTarget, treePredictions[1]) * 100)))\n",
    "\n",
    "    plt.figure(figsize=(10, 6))\n",
    "\n",
    "    plt.plot(trainPrecisions) \n",
    "    plt.plot(testPrecisions) \n",
    "    plt.ylim(50, 100)\n",
    "    plt.xticks(range(len(labels)), labels)\n",
    "    plt.xlabel('Max Features') \n",
    "    plt.ylabel('Precision') \n",
    "    plt.title('Random Forest Precision') \n",
    "\n",
    "    plt.show() \n",
    "    \n",
    "def showRFMaxFeatureAccuracyRange() : \n",
    "    trainPrecisions = []\n",
    "    testPrecisions = []\n",
    "    labels = []\n",
    "    for i in range(2, it) : \n",
    "        print(i, end = \" \")\n",
    "        labels.append(\"{:.2f}\".format(i * 100 / it))\n",
    "        treePredictions = evaluateRandomForest(\"max_features\", (float)(i / it))\n",
    "        trainPrecisions.append((float)(\"{:.2f}\".format(accuracy_score(trainTarget, treePredictions[0]) * 100)))\n",
    "        testPrecisions.append((float)(\"{:.2f}\".format(accuracy_score(testTarget, treePredictions[1]) * 100)))\n",
    "\n",
    "    plt.figure(figsize=(10, 6))\n",
    "\n",
    "    plt.plot(trainPrecisions) \n",
    "    plt.plot(testPrecisions) \n",
    "    plt.ylim(50, 100)\n",
    "    plt.xticks(range(len(labels)), labels)\n",
    "    plt.xlabel('Max Features') \n",
    "    plt.ylabel('Accuracy') \n",
    "    plt.title('Random Forest Accuracy') \n",
    "\n",
    "    plt.show()        "
   ]
  },
  {
   "cell_type": "code",
   "execution_count": 20,
   "metadata": {},
   "outputs": [
    {
     "name": "stdout",
     "output_type": "stream",
     "text": [
      "2 3 4 5 6 7 8 9 10 11 12 13 14 "
     ]
    },
    {
     "data": {
      "image/png": "[encoded data removed]",
      "text/plain": [
       "<Figure size 720x432 with 1 Axes>"
      ]
     },
     "metadata": {
      "needs_background": "light"
     },
     "output_type": "display_data"
    }
   ],
   "source": [
    "showRFMaxDepthPrecisionRange()"
   ]
  },
  {
   "cell_type": "code",
   "execution_count": 21,
   "metadata": {},
   "outputs": [
    {
     "name": "stdout",
     "output_type": "stream",
     "text": [
      "2 3 4 5 6 7 8 9 10 11 12 13 14 "
     ]
    },
    {
     "data": {
      "image/png": "[encoded data removed]",
      "text/plain": [
       "<Figure size 720x432 with 1 Axes>"
      ]
     },
     "metadata": {
      "needs_background": "light"
     },
     "output_type": "display_data"
    }
   ],
   "source": [
    "showRFMaxDepthAccuracyRange()"
   ]
  },
  {
   "cell_type": "code",
   "execution_count": 22,
   "metadata": {},
   "outputs": [
    {
     "name": "stdout",
     "output_type": "stream",
     "text": [
      "2 3 4 5 6 7 8 9 10 11 12 13 14 "
     ]
    },
    {
     "data": {
      "image/png": "[encoded data removed]",
      "text/plain": [
       "<Figure size 720x432 with 1 Axes>"
      ]
     },
     "metadata": {
      "needs_background": "light"
     },
     "output_type": "display_data"
    }
   ],
   "source": [
    "showRFMaxLeafPrecisionRange()"
   ]
  },
  {
   "cell_type": "code",
   "execution_count": 23,
   "metadata": {},
   "outputs": [
    {
     "name": "stdout",
     "output_type": "stream",
     "text": [
      "2 3 4 5 6 7 8 9 10 11 12 13 14 "
     ]
    },
    {
     "data": {
      "image/png": "[encoded data removed]",
      "text/plain": [
       "<Figure size 720x432 with 1 Axes>"
      ]
     },
     "metadata": {
      "needs_background": "light"
     },
     "output_type": "display_data"
    }
   ],
   "source": [
    "showRFMaxLeafAccuracyRange()"
   ]
  },
  {
   "cell_type": "code",
   "execution_count": 24,
   "metadata": {},
   "outputs": [
    {
     "name": "stdout",
     "output_type": "stream",
     "text": [
      "2 3 4 5 6 7 8 9 10 11 12 13 14 "
     ]
    },
    {
     "data": {
      "image/png": "[encoded data removed]",
      "text/plain": [
       "<Figure size 720x432 with 1 Axes>"
      ]
     },
     "metadata": {
      "needs_background": "light"
     },
     "output_type": "display_data"
    }
   ],
   "source": [
    "showRFMaxFeaturePrecisionRange()"
   ]
  },
  {
   "cell_type": "code",
   "execution_count": 25,
   "metadata": {},
   "outputs": [
    {
     "name": "stdout",
     "output_type": "stream",
     "text": [
      "2 3 4 5 6 7 8 9 10 11 12 13 14 "
     ]
    },
    {
     "data": {
      "image/png": "[encoded data removed]",
      "text/plain": [
       "<Figure size 720x432 with 1 Axes>"
      ]
     },
     "metadata": {
      "needs_background": "light"
     },
     "output_type": "display_data"
    }
   ],
   "source": [
    "showRFMaxFeatureAccuracyRange()"
   ]
  },
  {
   "cell_type": "markdown",
   "metadata": {},
   "source": [
    "<br>\n",
    "\n",
    "<h3> 3. Bagging effect on overfitting: </h3>\n",
    "<p>As we mentioned, for big <b>max depth </b> we will face overfitting. so, in order to check bagging effect on overfitting, we use a bagging method for decision tree with max depth = 20: </p>\n",
    "\n",
    "<p><b>Result : </b>The results are interesting: </p>\n",
    "<p style=\"text-indent :2em;\">Accuracy, precision, and recall for Training data are reduced.</p>\n",
    "<p style=\"text-indent :2em;\">Accuracy, precision, and recall for Test data are increased.</p>\n",
    "<p>So we lost some accuracy on Train data, but instead, gained accuracy for Test data which is valuable. On the other hand, the difference between Train accuracy and Test accuracy (same for precision and recall) decreases which means now we don't have ovefitting.</p>\n",
    "\n",
    "<p>As a conclusion, bagging might help to remove or reduce overfitting. But It's not guaranteed that always works.</p>\n",
    "\n",
    "<br>"
   ]
  },
  {
   "cell_type": "code",
   "execution_count": 26,
   "metadata": {},
   "outputs": [
    {
     "data": {
      "text/html": [
       "<div>\n",
       "<style scoped>\n",
       "    .dataframe tbody tr th:only-of-type {\n",
       "        vertical-align: middle;\n",
       "    }\n",
       "\n",
       "    .dataframe tbody tr th {\n",
       "        vertical-align: top;\n",
       "    }\n",
       "\n",
       "    .dataframe thead th {\n",
       "        text-align: right;\n",
       "    }\n",
       "</style>\n",
       "<table border=\"1\" class=\"dataframe\">\n",
       "  <thead>\n",
       "    <tr style=\"text-align: right;\">\n",
       "      <th></th>\n",
       "      <th></th>\n",
       "      <th>Precision</th>\n",
       "      <th>Accuracy</th>\n",
       "      <th>Recall</th>\n",
       "    </tr>\n",
       "  </thead>\n",
       "  <tbody>\n",
       "    <tr>\n",
       "      <th>0</th>\n",
       "      <td>Normal Train</td>\n",
       "      <td>96.88</td>\n",
       "      <td>96.82</td>\n",
       "      <td>96.82</td>\n",
       "    </tr>\n",
       "    <tr>\n",
       "      <th>1</th>\n",
       "      <td>Normal Test</td>\n",
       "      <td>63.94</td>\n",
       "      <td>63.27</td>\n",
       "      <td>63.27</td>\n",
       "    </tr>\n",
       "    <tr>\n",
       "      <th>2</th>\n",
       "      <td>Bagging Train</td>\n",
       "      <td>80.91</td>\n",
       "      <td>81.30</td>\n",
       "      <td>81.30</td>\n",
       "    </tr>\n",
       "    <tr>\n",
       "      <th>3</th>\n",
       "      <td>Bagging Test</td>\n",
       "      <td>65.03</td>\n",
       "      <td>66.36</td>\n",
       "      <td>66.36</td>\n",
       "    </tr>\n",
       "  </tbody>\n",
       "</table>\n",
       "</div>"
      ],
      "text/plain": [
       "                 Precision Accuracy Recall\n",
       "0   Normal Train     96.88    96.82  96.82\n",
       "1    Normal Test     63.94    63.27  63.27\n",
       "2  Bagging Train     80.91    81.30  81.30\n",
       "3   Bagging Test     65.03    66.36  66.36"
      ]
     },
     "execution_count": 26,
     "metadata": {},
     "output_type": "execute_result"
    }
   ],
   "source": [
    "def checkBaggingOnOverfitting() : \n",
    "    treePredictions = classifyDecisionTree(20)\n",
    "    baggedTreePredictions = evaluateDecisionTreeBagging(20)\n",
    "    \n",
    "    treeTrainPrecision = \"{:.2f}\".format(precision_score(trainTarget, treePredictions[0], average = 'weighted') * 100)\n",
    "    treeTestPrecision = \"{:.2f}\".format(precision_score(testTarget, treePredictions[1], average = 'weighted') * 100)\n",
    "\n",
    "    treeTrainAccuracy = \"{:.2f}\".format(accuracy_score(trainTarget, treePredictions[0]) * 100)\n",
    "    treeTestAccuracy = \"{:.2f}\".format(accuracy_score(testTarget, treePredictions[1]) * 100)\n",
    "    \n",
    "    treeTrainRecall = \"{:.2f}\".format(recall_score(trainTarget, treePredictions[0], average = 'weighted') * 100)\n",
    "    treeTestRecall = \"{:.2f}\".format(recall_score(testTarget, treePredictions[1], average = 'weighted') * 100)\n",
    "    \n",
    "    \n",
    "    bTreeTrainPrecision = \"{:.2f}\".format(precision_score(trainTarget, baggedTreePredictions[0], average = 'weighted') * 100)\n",
    "    bTreeTestPrecision = \"{:.2f}\".format(precision_score(testTarget, baggedTreePredictions[1], average = 'weighted') * 100)\n",
    "\n",
    "    bTreeTrainAccuracy = \"{:.2f}\".format(accuracy_score(trainTarget, baggedTreePredictions[0]) * 100)\n",
    "    bTreeTestAccuracy = \"{:.2f}\".format(accuracy_score(testTarget, baggedTreePredictions[1]) * 100)\n",
    "    \n",
    "    bTreeTrainRecall = \"{:.2f}\".format(recall_score(trainTarget, baggedTreePredictions[0], average = 'weighted') * 100)\n",
    "    bTreeTestRecall = \"{:.2f}\".format(recall_score(testTarget, baggedTreePredictions[1], average = 'weighted') * 100)\n",
    "    \n",
    "    \n",
    "    df2 = pd.DataFrame (columns = [' ', 'Precision', 'Accuracy', 'Recall'])\n",
    "    \n",
    "    df2[' '] = ['Normal Train', 'Normal Test', 'Bagging Train', 'Bagging Test']\n",
    "    df2['Precision'] = [treeTrainPrecision, treeTestPrecision, bTreeTrainPrecision, bTreeTestPrecision]\n",
    "    df2['Accuracy'] = [treeTrainAccuracy, treeTestAccuracy, bTreeTrainAccuracy, bTreeTestAccuracy]\n",
    "    df2['Recall'] = [treeTrainRecall, treeTestRecall, bTreeTrainRecall, bTreeTestRecall]\n",
    "    \n",
    "    return df2\n",
    "\n",
    "checkBaggingOnOverfitting()"
   ]
  },
  {
   "cell_type": "markdown",
   "metadata": {},
   "source": [
    "<br>\n",
    "\n",
    "<h3> 4. Hard Voting: </h3>\n",
    "<p>When we were talking about bagging and random forest, we said: \"similar classifiers with different data\". Well, for voting we have a converse: <b>\"different classifiers with different hyperparameters but similar data</b>. Now every classifier take part for decision, but finally, there would be a voting to choose the true result. </p>\n",
    "<p>We have two types of votings: </p>\n",
    "\n",
    "<p style=\"text-indent :2em;\"><mark>Hard voting</mark> : If ‘hard’, it uses predicted class labels for majority rule voting.</p>\n",
    "<p style=\"text-indent :2em;\"><mark>Soft voting</mark> : If 'soft', it predicts the class label based on the argmax of the sums of the predicted probabilities, which is recommended for an ensemble of well-calibrated classifiers.\n",
    "</p>\n",
    "\n",
    "<p>We used hard voting for this step :</p>\n",
    "\n",
    "\n",
    "<br>"
   ]
  },
  {
   "cell_type": "code",
   "execution_count": 27,
   "metadata": {},
   "outputs": [
    {
     "data": {
      "text/html": [
       "<div>\n",
       "<style scoped>\n",
       "    .dataframe tbody tr th:only-of-type {\n",
       "        vertical-align: middle;\n",
       "    }\n",
       "\n",
       "    .dataframe tbody tr th {\n",
       "        vertical-align: top;\n",
       "    }\n",
       "\n",
       "    .dataframe thead th {\n",
       "        text-align: right;\n",
       "    }\n",
       "</style>\n",
       "<table border=\"1\" class=\"dataframe\">\n",
       "  <thead>\n",
       "    <tr style=\"text-align: right;\">\n",
       "      <th></th>\n",
       "      <th>Random Forest</th>\n",
       "      <th>Precision</th>\n",
       "      <th>Accuracy</th>\n",
       "      <th>Recall</th>\n",
       "    </tr>\n",
       "  </thead>\n",
       "  <tbody>\n",
       "    <tr>\n",
       "      <th>0</th>\n",
       "      <td>Train</td>\n",
       "      <td>74.64</td>\n",
       "      <td>73.97</td>\n",
       "      <td>73.97</td>\n",
       "    </tr>\n",
       "    <tr>\n",
       "      <th>1</th>\n",
       "      <td>Test</td>\n",
       "      <td>71.64</td>\n",
       "      <td>73.00</td>\n",
       "      <td>73.00</td>\n",
       "    </tr>\n",
       "  </tbody>\n",
       "</table>\n",
       "</div>"
      ],
      "text/plain": [
       "  Random Forest Precision Accuracy Recall\n",
       "0         Train     74.64    73.97  73.97\n",
       "1          Test     71.64    73.00  73.00"
      ]
     },
     "execution_count": 27,
     "metadata": {},
     "output_type": "execute_result"
    }
   ],
   "source": [
    "from sklearn.ensemble import VotingClassifier\n",
    "\n",
    "def evaluateHardVoting() : \n",
    "    clf1 = KNeighborsClassifier(n_neighbors=8)\n",
    "    clf2 = DecisionTreeClassifier(random_state=10, max_depth=4)\n",
    "    clf3 = LogisticRegression(max_iter = 10000)\n",
    "    \n",
    "    clf = VotingClassifier(estimators=[\n",
    "        ('lr', clf1), ('rf', clf2), ('gnb', clf3)], voting='hard')\n",
    "    clf = clf.fit(trainData, trainTarget)\n",
    "    \n",
    "    treeTestPredic = []\n",
    "    treeTrainPredic = []\n",
    "     \n",
    "    treeTestPredic = clf.predict(testData)\n",
    "    \n",
    "    treeTrainPredic = clf.predict(trainData)\n",
    "        \n",
    "    return [treeTrainPredic, treeTestPredic]\n",
    "\n",
    "def showHardVotingSpecifications() : \n",
    "    Predictions = evaluateHardVoting()\n",
    "    \n",
    "    TrainPrecision = \"{:.2f}\".format(precision_score(trainTarget, Predictions[0], average = 'weighted') * 100)\n",
    "    TestPrecision = \"{:.2f}\".format(precision_score(testTarget, Predictions[1], average = 'weighted') * 100)\n",
    "\n",
    "    TrainAccuracy = \"{:.2f}\".format(accuracy_score(trainTarget, Predictions[0]) * 100)\n",
    "    TestAccuracy = \"{:.2f}\".format(accuracy_score(testTarget, Predictions[1]) * 100)\n",
    "    \n",
    "    TrainRecall = \"{:.2f}\".format(recall_score(trainTarget, Predictions[0], average = 'weighted') * 100)\n",
    "    TestRecall = \"{:.2f}\".format(recall_score(testTarget, Predictions[1], average = 'weighted') * 100)\n",
    "    \n",
    "    \n",
    "    df2 = pd.DataFrame (columns = ['Random Forest', 'Precision', 'Accuracy', 'Recall'])\n",
    "    \n",
    "    df2['Random Forest'] = ['Train', 'Test']\n",
    "    df2['Precision'] = [TrainPrecision, TestPrecision]\n",
    "    df2['Accuracy'] = [TrainAccuracy, TestAccuracy]\n",
    "    df2['Recall'] = [TrainRecall, TestRecall]\n",
    "    \n",
    "    return df2\n",
    "\n",
    "showHardVotingSpecifications()    "
   ]
  },
  {
   "cell_type": "markdown",
   "metadata": {},
   "source": [
    "<br>\n",
    "\n",
    "<h3> 5. Bootstraping and its effects on Bias and Variance: </h3>\n",
    "<p>Decision Trees have extremely low bias because they maximally overfit to the training data. So in random forest (bootstrap aggregation) we will normally achive low bias which is good. But on the other hand, random forest employs a number of techniques to reduce variance in predictions while maintaining (to some extent) the low variance that was characteristic of the lone Decision Tree. It does this primarily by averaging together a number of very weakly correlated (if not completely uncorrelated) trees. Hyperparameters like max_features is among the techniques useful in reducing this correlation between trees, but they often come at the cost of some increase in bias, since each tree now has less data to work with.</p>\n",
    "\n",
    "<p>Our goal, then, is to choose a set of hyperparameters that nagivates this tradeoff between bias and variance so as to minimize error</p>\n",
    "\n",
    "<br>"
   ]
  },
  {
   "cell_type": "markdown",
   "metadata": {},
   "source": [
    "<br>\n",
    "\n",
    "<h3> 6. Conclusion, success and fail reasons, and comparisons: </h3>\n",
    "<p>In some cases we achieved good results, and in some others, normal results.</p>\n",
    "<p>In phase 1 we tried to tune hyperparameters for the best accuracy and precision.</p>\n",
    "<p>In phase 2 , first we implemented bagging which improved results about 2 percents, which is reasonable, in random forest we even get better ones.</p>\n",
    "<p>But in hard voting, our results were a bit worse.</p>\n",
    "\n",
    "<p><b>But why?</b> In bagging we splitted data and features among classifiers, so every classifier now have less data, but might see a better view of total data, so variace could get decreased, but bias might get increased. Same for hard voting but in another way. we must make a trade between these two as mentioned above. So it's not guaranteed that always we achieve better results by using bagging and voting.</p>\n",
    "\n",
    "<p><b>Comparison:<b> random forest results are the best, then bagging, then hard voting, finally those 3 classifiers implemented in phase1 (respectively: Decision Tree, KNN, logistic)<p>\n",
    "\n",
    "<br>\n"
   ]
  },
  {
   "cell_type": "code",
   "execution_count": null,
   "metadata": {},
   "outputs": [],
   "source": []
  }
 ],
 "metadata": {
  "kernelspec": {
   "display_name": "Python 3",
   "language": "python",
   "name": "python3"
  },
  "language_info": {
   "codemirror_mode": {
    "name": "ipython",
    "version": 3
   },
   "file_extension": ".py",
   "mimetype": "text/x-python",
   "name": "python",
   "nbconvert_exporter": "python",
   "pygments_lexer": "ipython3",
   "version": "3.6.9"
  }
 },
 "nbformat": 4,
 "nbformat_minor": 4
}
